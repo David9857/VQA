{
  "nbformat": 4,
  "nbformat_minor": 0,
  "metadata": {
    "colab": {
      "name": "KAN.ipynb",
      "provenance": [],
      "collapsed_sections": [],
      "toc_visible": true,
      "authorship_tag": "ABX9TyMVcuheYL7RlsuKqAxOxNsH",
      "include_colab_link": true
    },
    "kernelspec": {
      "display_name": "Python 3",
      "name": "python3"
    },
    "language_info": {
      "name": "python"
    }
  },
  "cells": [
    {
      "cell_type": "markdown",
      "metadata": {
        "id": "view-in-github",
        "colab_type": "text"
      },
      "source": [
        "<a href=\"https://colab.research.google.com/github/David9857/VQA/blob/main/KAN.ipynb\" target=\"_parent\"><img src=\"https://colab.research.google.com/assets/colab-badge.svg\" alt=\"Open In Colab\"/></a>"
      ]
    },
    {
      "cell_type": "code",
      "metadata": {
        "colab": {
          "base_uri": "https://localhost:8080/"
        },
        "id": "ZLzK8c7pgGsY",
        "outputId": "a9c57367-26f0-4b57-95df-1e01a3af653f"
      },
      "source": [
        "from google.colab import drive\n",
        "drive.mount('/content/drive')"
      ],
      "execution_count": 1,
      "outputs": [
        {
          "output_type": "stream",
          "text": [
            "Mounted at /content/drive\n"
          ],
          "name": "stdout"
        }
      ]
    },
    {
      "cell_type": "code",
      "metadata": {
        "colab": {
          "base_uri": "https://localhost:8080/"
        },
        "id": "6RJ8DD7VH2tK",
        "outputId": "9f9e3577-df2f-48aa-c9af-2efd28b1465a"
      },
      "source": [
        "import spacy\n",
        "import spacy.cli\n",
        "spacy.cli.download(\"en_vectors_web_lg\")"
      ],
      "execution_count": null,
      "outputs": [
        {
          "output_type": "stream",
          "text": [
            "\u001b[38;5;2m✔ Download and installation successful\u001b[0m\n",
            "You can now load the model via spacy.load('en_vectors_web_lg')\n"
          ],
          "name": "stdout"
        }
      ]
    },
    {
      "cell_type": "code",
      "metadata": {
        "id": "EuziCOYQC70U"
      },
      "source": [
        "!mkdir ./results"
      ],
      "execution_count": null,
      "outputs": []
    },
    {
      "cell_type": "code",
      "metadata": {
        "colab": {
          "base_uri": "https://localhost:8080/"
        },
        "id": "nRwOBxOHjGiu",
        "outputId": "470936bd-0f92-44df-ce3e-7c29d6a6e5dd"
      },
      "source": [
        "!python /content/drive/MyDrive/KAN/train.py"
      ],
      "execution_count": null,
      "outputs": [
        {
          "output_type": "stream",
          "text": [
            "Traceback (most recent call last):\n",
            "  File \"/content/drive/MyDrive/KAN/train.py\", line 2, in <module>\n",
            "    from core.exec import Execution\n",
            "  File \"/content/drive/.shortcut-targets-by-id/1qq5LCjZ3AGmL2Kv20y4s0nEVp9K7G-Mn/KAN/core/exec.py\", line 2, in <module>\n",
            "    from core.model.net import Net\n",
            "ModuleNotFoundError: No module named 'core.model.net'\n"
          ],
          "name": "stdout"
        }
      ]
    },
    {
      "cell_type": "code",
      "metadata": {
        "id": "fvPQbGRGPV-B"
      },
      "source": [
        "!mkdir ./data\n",
        "!cp /content/drive/MyDrive/data_path.zip ./data/\n",
        "!cd ./data && unzip data_path.zip"
      ],
      "execution_count": null,
      "outputs": []
    },
    {
      "cell_type": "code",
      "metadata": {
        "id": "Y2lcPYFOR9C1"
      },
      "source": [
        "!cd ./data && unzip data_path.zip"
      ],
      "execution_count": null,
      "outputs": []
    },
    {
      "cell_type": "code",
      "metadata": {
        "id": "WCVUo3nidCJz"
      },
      "source": [
        "# !ls /content/data/data/ques_embeddings/bluebert\n",
        "!cp -r /content/data/data/ques_embeddings/w2v /content/drive/MyDrive/VQA_path/ques_embeddings"
      ],
      "execution_count": null,
      "outputs": []
    },
    {
      "cell_type": "code",
      "metadata": {
        "colab": {
          "base_uri": "https://localhost:8080/"
        },
        "id": "ZR8yNFqntb_P",
        "outputId": "467aabc6-d391-41fd-9427-7e7a22ff2f28"
      },
      "source": [
        "!ls /content/drive/MyDrive/VQA_path/ques_embeddings/bioelmo/7563.npy"
      ],
      "execution_count": null,
      "outputs": [
        {
          "output_type": "stream",
          "text": [
            "/content/drive/MyDrive/VQA_path/ques_embeddings/bioelmo/7563.npy\n"
          ],
          "name": "stdout"
        }
      ]
    },
    {
      "cell_type": "code",
      "metadata": {
        "colab": {
          "base_uri": "https://localhost:8080/"
        },
        "id": "KL5Ds4jFFwpc",
        "outputId": "0306cf8a-4652-4fa6-d734-3c1df7efb2bd"
      },
      "source": [
        "!ls /content/drive/MyDrive/VQA_path/ques_embeddings/bioelmo | wc -l"
      ],
      "execution_count": null,
      "outputs": [
        {
          "output_type": "stream",
          "text": [
            "32761\n"
          ],
          "name": "stdout"
        }
      ]
    },
    {
      "cell_type": "code",
      "metadata": {
        "colab": {
          "base_uri": "https://localhost:8080/"
        },
        "id": "71QPNqF9D9cK",
        "outputId": "6fb859d0-6447-4f08-a514-20d4c8728b26"
      },
      "source": [
        "!ls /content/data/data/ques_embeddings/bioelmo/7563.npy"
      ],
      "execution_count": null,
      "outputs": [
        {
          "output_type": "stream",
          "text": [
            "/content/data/data/ques_embeddings/bioelmo/7563.npy\n"
          ],
          "name": "stdout"
        }
      ]
    },
    {
      "cell_type": "code",
      "metadata": {
        "id": "9jWefj388PdK"
      },
      "source": [
        "!unzip -uq '/content/drive/MyDrive/data_path.zip' -d '/content/drive/MyDrive/data_path'"
      ],
      "execution_count": null,
      "outputs": []
    },
    {
      "cell_type": "code",
      "metadata": {
        "id": "aTyyvxP0N0X8"
      },
      "source": [
        "import os\n",
        "os.environ['TF_CPP_MIN_LOG_LEVEL'] = '3'\n",
        "import tensorflow as tf\n",
        "import pandas as pd\n",
        "import time\n",
        "import pathlib\n",
        "from utils.load_data import DataLoader\n",
        "from utils.evaluation import AnswerEvaluator\n",
        "from utils.training_toolkit import CustomSchedule, loss_function\n",
        "from models.Transformer.transformers import VQATransformer\n",
        "from models.Transformer.masks import create_masks"
      ],
      "execution_count": null,
      "outputs": []
    },
    {
      "cell_type": "code",
      "metadata": {
        "id": "2o59uVh91l6b"
      },
      "source": [
        "class Image_Question_Encoder(tf.keras.layers.Layer):\n",
        "    def __init__(self, num_layers, d_model, num_heads, dff, maximum_position_encoding,\n",
        "                 rate=0.1 ,pretrained_cnn_type='inception', multiplier = 10):\n",
        "        super(Image_Question_Encoder, self).__init__()\n",
        "        self.maximum_position_encoding = maximum_position_encoding\n",
        "        self.pretrained_CNN = pretrained_cnn(pretrained_cnn_type)\n",
        "        self.fc1 = Dense(maximum_position_encoding * multiplier) # fully connected layer\n",
        "        self.image_dense = Dense(d_model, activation='relu')\n",
        "        self.question_encoder = Encoder(\n",
        "            num_layers=num_layers,\n",
        "            d_model=d_model,\n",
        "            num_heads=num_heads,\n",
        "            dff=dff,\n",
        "            maximum_position_encoding=maximum_position_encoding)\n",
        "        self.concatenator = Concatenate(axis=1)\n",
        "        self.conv = tf.keras.layers.Conv2D(1024, 3, padding='same', activation='relu')\n",
        "        self.bilstm = tf.keras.layers.Bidirectional(tf.keras.layers.LSTM(512, return_sequences=True))\n",
        "\n",
        "    def call(self, question, img, training, mask):\n",
        "        img_feature = self.pretrained_CNN(img)  # (7, 7, 1024)\n",
        "        img_feature = self.conv(img_feature)\n",
        "        img_shape = img_feature.shape[-1]\n",
        "        img_feature = tf.keras.layers.Reshape((-1, img_shape))(img_feature)  # (49, 1024)\n",
        "        img_feature = self.fc1(img_feature)  # (49, pe_input)\n",
        "        img_feature = tf.transpose(img_feature, perm=(0, 2, 1))  # (Res, 49)\n",
        "        img_feature = tf.keras.layers.Reshape((self.maximum_position_encoding, -1))(img_feature)\n",
        "        img_feature = self.image_dense(img_feature)  # (pe_input, 512)\n",
        "        question = self.bilstm(question)\n",
        "        context = self.question_encoder(question, img_feature, training, mask)  # (batch, question_len, 512)\n",
        "        # context = self.concatenator([img_feature, question_feature]) # （batch, 64 + question_len, 512)\n",
        "        return context  # (64, 108, 512)"
      ],
      "execution_count": null,
      "outputs": []
    },
    {
      "cell_type": "code",
      "metadata": {
        "id": "RN20dq66N1Z1"
      },
      "source": [
        "transformer = VQATransformer(num_layers, d_model, num_heads, dff, vocab_size, pe_input, pe_output,\n",
        "                          pretrained_cnn_type=cnn_type)\n",
        "\n",
        "learning_rate = CustomSchedule(d_model)\n",
        "optimizer = tf.keras.optimizers.Adam(learning_rate, beta_1=0.9, beta_2=0.98, epsilon=1e-9)\n",
        "\n",
        "train_loss = tf.keras.metrics.Mean(name='train_loss')\n",
        "train_accuracy = tf.keras.metrics.SparseCategoricalAccuracy(name='train_accuracy')\n",
        "\n",
        "ckpt = tf.train.Checkpoint(transformer=transformer,\n",
        "                           optimizer=optimizer)\n",
        "\n",
        "ckpt_manager = tf.train.CheckpointManager(ckpt, check_point_path, max_to_keep=5)"
      ],
      "execution_count": null,
      "outputs": []
    },
    {
      "cell_type": "markdown",
      "metadata": {
        "id": "jCsnsvUm6DrQ"
      },
      "source": [
        "# Knowledge"
      ]
    },
    {
      "cell_type": "code",
      "metadata": {
        "colab": {
          "base_uri": "https://localhost:8080/"
        },
        "id": "bPEruxbu6HUJ",
        "outputId": "ba9bda09-bf2f-4504-9078-55d4678565b7"
      },
      "source": [
        "pip install senticnet"
      ],
      "execution_count": 2,
      "outputs": [
        {
          "output_type": "stream",
          "text": [
            "Collecting senticnet\n",
            "\u001b[?25l  Downloading https://files.pythonhosted.org/packages/f3/8e/c72d2c5186f762f13d3d8cf63aedeb973b95d45d62b59a63006060073e3a/senticnet-1.6-py3-none-any.whl (51.9MB)\n",
            "\u001b[K     |████████████████████████████████| 51.9MB 142kB/s \n",
            "\u001b[?25hInstalling collected packages: senticnet\n",
            "Successfully installed senticnet-1.6\n"
          ],
          "name": "stdout"
        }
      ]
    },
    {
      "cell_type": "code",
      "metadata": {
        "id": "dEDhpg2u-pgg"
      },
      "source": [
        "from senticnet.senticnet import SenticNet\n",
        "\n",
        "sn = SenticNet()\n",
        "concept_info = sn.concept('love')\n",
        "polarity_label = sn.polarity_label('love')\n",
        "polarity_value = sn.polarity_value('love')\n",
        "moodtags = sn.moodtags('love')\n",
        "semantics = sn.semantics('love')\n",
        "sentics = sn.sentics('love')"
      ],
      "execution_count": 3,
      "outputs": []
    },
    {
      "cell_type": "code",
      "metadata": {
        "colab": {
          "base_uri": "https://localhost:8080/"
        },
        "id": "4WXn3hOu-xAJ",
        "outputId": "5b17fd15-bd41-4208-b977-b5bfe1173f97"
      },
      "source": [
        "print(concept_info)\n",
        "print(polarity_label)\n",
        "print(polarity_value)\n",
        "print(moodtags)\n",
        "print(semantics)\n",
        "print(sentics)"
      ],
      "execution_count": 6,
      "outputs": [
        {
          "output_type": "stream",
          "text": [
            "{'polarity_label': 'positive', 'polarity_value': '0.83', 'sentics': {'introspection': '0.897', 'temper': '0', 'attitude': '0', 'sensitivity': '0.762'}, 'moodtags': ['#joy', '#eagerness'], 'semantics': ['desire_succeed', 'excitement', 'lust', 'passion', 'sexuality']}\n",
            "positive\n",
            "0.83\n",
            "['#joy', '#eagerness']\n",
            "['desire_succeed', 'excitement', 'lust', 'passion', 'sexuality']\n",
            "{'introspection': '0.897', 'temper': '0', 'attitude': '0', 'sensitivity': '0.762'}\n"
          ],
          "name": "stdout"
        }
      ]
    }
  ]
}