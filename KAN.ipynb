{
  "nbformat": 4,
  "nbformat_minor": 0,
  "metadata": {
    "colab": {
      "name": "KAN.ipynb",
      "provenance": [],
      "collapsed_sections": [
        "DyfkKE3kK9fG",
        "kbsW4-ZG6lJ1",
        "vmTWSXHG-Z2B",
        "7L71-fnWYeoC",
        "SFUgc0eeNlO7"
      ],
      "toc_visible": true,
      "authorship_tag": "ABX9TyNYBTIXGLCIb3ZJNFezFv2/",
      "include_colab_link": true
    },
    "kernelspec": {
      "display_name": "Python 3",
      "name": "python3"
    },
    "language_info": {
      "name": "python"
    },
    "widgets": {
      "application/vnd.jupyter.widget-state+json": {
        "7fea811fb464480abf1e3caf0968e1e3": {
          "model_module": "@jupyter-widgets/controls",
          "model_name": "HBoxModel",
          "state": {
            "_view_name": "HBoxView",
            "_dom_classes": [],
            "_model_name": "HBoxModel",
            "_view_module": "@jupyter-widgets/controls",
            "_model_module_version": "1.5.0",
            "_view_count": null,
            "_view_module_version": "1.5.0",
            "box_style": "",
            "layout": "IPY_MODEL_ab17f772b18149ada88c6faa94e7aa09",
            "_model_module": "@jupyter-widgets/controls",
            "children": [
              "IPY_MODEL_21fa66e20a86472e977f7714a279a79a",
              "IPY_MODEL_fdf4f76900f94c30b5dde182e4e58dfa"
            ]
          }
        },
        "ab17f772b18149ada88c6faa94e7aa09": {
          "model_module": "@jupyter-widgets/base",
          "model_name": "LayoutModel",
          "state": {
            "_view_name": "LayoutView",
            "grid_template_rows": null,
            "right": null,
            "justify_content": null,
            "_view_module": "@jupyter-widgets/base",
            "overflow": null,
            "_model_module_version": "1.2.0",
            "_view_count": null,
            "flex_flow": null,
            "width": null,
            "min_width": null,
            "border": null,
            "align_items": null,
            "bottom": null,
            "_model_module": "@jupyter-widgets/base",
            "top": null,
            "grid_column": null,
            "overflow_y": null,
            "overflow_x": null,
            "grid_auto_flow": null,
            "grid_area": null,
            "grid_template_columns": null,
            "flex": null,
            "_model_name": "LayoutModel",
            "justify_items": null,
            "grid_row": null,
            "max_height": null,
            "align_content": null,
            "visibility": null,
            "align_self": null,
            "height": null,
            "min_height": null,
            "padding": null,
            "grid_auto_rows": null,
            "grid_gap": null,
            "max_width": null,
            "order": null,
            "_view_module_version": "1.2.0",
            "grid_template_areas": null,
            "object_position": null,
            "object_fit": null,
            "grid_auto_columns": null,
            "margin": null,
            "display": null,
            "left": null
          }
        },
        "21fa66e20a86472e977f7714a279a79a": {
          "model_module": "@jupyter-widgets/controls",
          "model_name": "FloatProgressModel",
          "state": {
            "_view_name": "ProgressView",
            "style": "IPY_MODEL_8654ecde490a4c5d84a09a0107ea4fe4",
            "_dom_classes": [],
            "description": "Downloading: 100%",
            "_model_name": "FloatProgressModel",
            "bar_style": "success",
            "max": 625,
            "_view_module": "@jupyter-widgets/controls",
            "_model_module_version": "1.5.0",
            "value": 625,
            "_view_count": null,
            "_view_module_version": "1.5.0",
            "orientation": "horizontal",
            "min": 0,
            "description_tooltip": null,
            "_model_module": "@jupyter-widgets/controls",
            "layout": "IPY_MODEL_f5d2a610de7f4b0ca870906e494b4e3b"
          }
        },
        "fdf4f76900f94c30b5dde182e4e58dfa": {
          "model_module": "@jupyter-widgets/controls",
          "model_name": "HTMLModel",
          "state": {
            "_view_name": "HTMLView",
            "style": "IPY_MODEL_8430d6b8a6004d118e5a6813195deb7b",
            "_dom_classes": [],
            "description": "",
            "_model_name": "HTMLModel",
            "placeholder": "​",
            "_view_module": "@jupyter-widgets/controls",
            "_model_module_version": "1.5.0",
            "value": " 625/625 [01:06&lt;00:00, 9.34B/s]",
            "_view_count": null,
            "_view_module_version": "1.5.0",
            "description_tooltip": null,
            "_model_module": "@jupyter-widgets/controls",
            "layout": "IPY_MODEL_0c2c202c399d430a87c125d0107d8470"
          }
        },
        "8654ecde490a4c5d84a09a0107ea4fe4": {
          "model_module": "@jupyter-widgets/controls",
          "model_name": "ProgressStyleModel",
          "state": {
            "_view_name": "StyleView",
            "_model_name": "ProgressStyleModel",
            "description_width": "initial",
            "_view_module": "@jupyter-widgets/base",
            "_model_module_version": "1.5.0",
            "_view_count": null,
            "_view_module_version": "1.2.0",
            "bar_color": null,
            "_model_module": "@jupyter-widgets/controls"
          }
        },
        "f5d2a610de7f4b0ca870906e494b4e3b": {
          "model_module": "@jupyter-widgets/base",
          "model_name": "LayoutModel",
          "state": {
            "_view_name": "LayoutView",
            "grid_template_rows": null,
            "right": null,
            "justify_content": null,
            "_view_module": "@jupyter-widgets/base",
            "overflow": null,
            "_model_module_version": "1.2.0",
            "_view_count": null,
            "flex_flow": null,
            "width": null,
            "min_width": null,
            "border": null,
            "align_items": null,
            "bottom": null,
            "_model_module": "@jupyter-widgets/base",
            "top": null,
            "grid_column": null,
            "overflow_y": null,
            "overflow_x": null,
            "grid_auto_flow": null,
            "grid_area": null,
            "grid_template_columns": null,
            "flex": null,
            "_model_name": "LayoutModel",
            "justify_items": null,
            "grid_row": null,
            "max_height": null,
            "align_content": null,
            "visibility": null,
            "align_self": null,
            "height": null,
            "min_height": null,
            "padding": null,
            "grid_auto_rows": null,
            "grid_gap": null,
            "max_width": null,
            "order": null,
            "_view_module_version": "1.2.0",
            "grid_template_areas": null,
            "object_position": null,
            "object_fit": null,
            "grid_auto_columns": null,
            "margin": null,
            "display": null,
            "left": null
          }
        },
        "8430d6b8a6004d118e5a6813195deb7b": {
          "model_module": "@jupyter-widgets/controls",
          "model_name": "DescriptionStyleModel",
          "state": {
            "_view_name": "StyleView",
            "_model_name": "DescriptionStyleModel",
            "description_width": "",
            "_view_module": "@jupyter-widgets/base",
            "_model_module_version": "1.5.0",
            "_view_count": null,
            "_view_module_version": "1.2.0",
            "_model_module": "@jupyter-widgets/controls"
          }
        },
        "0c2c202c399d430a87c125d0107d8470": {
          "model_module": "@jupyter-widgets/base",
          "model_name": "LayoutModel",
          "state": {
            "_view_name": "LayoutView",
            "grid_template_rows": null,
            "right": null,
            "justify_content": null,
            "_view_module": "@jupyter-widgets/base",
            "overflow": null,
            "_model_module_version": "1.2.0",
            "_view_count": null,
            "flex_flow": null,
            "width": null,
            "min_width": null,
            "border": null,
            "align_items": null,
            "bottom": null,
            "_model_module": "@jupyter-widgets/base",
            "top": null,
            "grid_column": null,
            "overflow_y": null,
            "overflow_x": null,
            "grid_auto_flow": null,
            "grid_area": null,
            "grid_template_columns": null,
            "flex": null,
            "_model_name": "LayoutModel",
            "justify_items": null,
            "grid_row": null,
            "max_height": null,
            "align_content": null,
            "visibility": null,
            "align_self": null,
            "height": null,
            "min_height": null,
            "padding": null,
            "grid_auto_rows": null,
            "grid_gap": null,
            "max_width": null,
            "order": null,
            "_view_module_version": "1.2.0",
            "grid_template_areas": null,
            "object_position": null,
            "object_fit": null,
            "grid_auto_columns": null,
            "margin": null,
            "display": null,
            "left": null
          }
        },
        "10b3143905ba4dcb8c51b92467baa262": {
          "model_module": "@jupyter-widgets/controls",
          "model_name": "HBoxModel",
          "state": {
            "_view_name": "HBoxView",
            "_dom_classes": [],
            "_model_name": "HBoxModel",
            "_view_module": "@jupyter-widgets/controls",
            "_model_module_version": "1.5.0",
            "_view_count": null,
            "_view_module_version": "1.5.0",
            "box_style": "",
            "layout": "IPY_MODEL_e3fbd61575b047b0b5590f36ed131672",
            "_model_module": "@jupyter-widgets/controls",
            "children": [
              "IPY_MODEL_e9de751f44364869aa3752b7fc579f60",
              "IPY_MODEL_361f1ef65f6f44449d038026cd32b0a5"
            ]
          }
        },
        "e3fbd61575b047b0b5590f36ed131672": {
          "model_module": "@jupyter-widgets/base",
          "model_name": "LayoutModel",
          "state": {
            "_view_name": "LayoutView",
            "grid_template_rows": null,
            "right": null,
            "justify_content": null,
            "_view_module": "@jupyter-widgets/base",
            "overflow": null,
            "_model_module_version": "1.2.0",
            "_view_count": null,
            "flex_flow": null,
            "width": null,
            "min_width": null,
            "border": null,
            "align_items": null,
            "bottom": null,
            "_model_module": "@jupyter-widgets/base",
            "top": null,
            "grid_column": null,
            "overflow_y": null,
            "overflow_x": null,
            "grid_auto_flow": null,
            "grid_area": null,
            "grid_template_columns": null,
            "flex": null,
            "_model_name": "LayoutModel",
            "justify_items": null,
            "grid_row": null,
            "max_height": null,
            "align_content": null,
            "visibility": null,
            "align_self": null,
            "height": null,
            "min_height": null,
            "padding": null,
            "grid_auto_rows": null,
            "grid_gap": null,
            "max_width": null,
            "order": null,
            "_view_module_version": "1.2.0",
            "grid_template_areas": null,
            "object_position": null,
            "object_fit": null,
            "grid_auto_columns": null,
            "margin": null,
            "display": null,
            "left": null
          }
        },
        "e9de751f44364869aa3752b7fc579f60": {
          "model_module": "@jupyter-widgets/controls",
          "model_name": "FloatProgressModel",
          "state": {
            "_view_name": "ProgressView",
            "style": "IPY_MODEL_f204ce2ac18c466f97501c3d99c64cb4",
            "_dom_classes": [],
            "description": "Downloading: 100%",
            "_model_name": "FloatProgressModel",
            "bar_style": "success",
            "max": 213450,
            "_view_module": "@jupyter-widgets/controls",
            "_model_module_version": "1.5.0",
            "value": 213450,
            "_view_count": null,
            "_view_module_version": "1.5.0",
            "orientation": "horizontal",
            "min": 0,
            "description_tooltip": null,
            "_model_module": "@jupyter-widgets/controls",
            "layout": "IPY_MODEL_4585319aa1894083a0ab89f8ab3ca35d"
          }
        },
        "361f1ef65f6f44449d038026cd32b0a5": {
          "model_module": "@jupyter-widgets/controls",
          "model_name": "HTMLModel",
          "state": {
            "_view_name": "HTMLView",
            "style": "IPY_MODEL_0e71fe8be82848628b4f98c6fd3878d9",
            "_dom_classes": [],
            "description": "",
            "_model_name": "HTMLModel",
            "placeholder": "​",
            "_view_module": "@jupyter-widgets/controls",
            "_model_module_version": "1.5.0",
            "value": " 213k/213k [00:35&lt;00:00, 6.00kB/s]",
            "_view_count": null,
            "_view_module_version": "1.5.0",
            "description_tooltip": null,
            "_model_module": "@jupyter-widgets/controls",
            "layout": "IPY_MODEL_f5301c8158514da2a5e672a5110b2eb7"
          }
        },
        "f204ce2ac18c466f97501c3d99c64cb4": {
          "model_module": "@jupyter-widgets/controls",
          "model_name": "ProgressStyleModel",
          "state": {
            "_view_name": "StyleView",
            "_model_name": "ProgressStyleModel",
            "description_width": "initial",
            "_view_module": "@jupyter-widgets/base",
            "_model_module_version": "1.5.0",
            "_view_count": null,
            "_view_module_version": "1.2.0",
            "bar_color": null,
            "_model_module": "@jupyter-widgets/controls"
          }
        },
        "4585319aa1894083a0ab89f8ab3ca35d": {
          "model_module": "@jupyter-widgets/base",
          "model_name": "LayoutModel",
          "state": {
            "_view_name": "LayoutView",
            "grid_template_rows": null,
            "right": null,
            "justify_content": null,
            "_view_module": "@jupyter-widgets/base",
            "overflow": null,
            "_model_module_version": "1.2.0",
            "_view_count": null,
            "flex_flow": null,
            "width": null,
            "min_width": null,
            "border": null,
            "align_items": null,
            "bottom": null,
            "_model_module": "@jupyter-widgets/base",
            "top": null,
            "grid_column": null,
            "overflow_y": null,
            "overflow_x": null,
            "grid_auto_flow": null,
            "grid_area": null,
            "grid_template_columns": null,
            "flex": null,
            "_model_name": "LayoutModel",
            "justify_items": null,
            "grid_row": null,
            "max_height": null,
            "align_content": null,
            "visibility": null,
            "align_self": null,
            "height": null,
            "min_height": null,
            "padding": null,
            "grid_auto_rows": null,
            "grid_gap": null,
            "max_width": null,
            "order": null,
            "_view_module_version": "1.2.0",
            "grid_template_areas": null,
            "object_position": null,
            "object_fit": null,
            "grid_auto_columns": null,
            "margin": null,
            "display": null,
            "left": null
          }
        },
        "0e71fe8be82848628b4f98c6fd3878d9": {
          "model_module": "@jupyter-widgets/controls",
          "model_name": "DescriptionStyleModel",
          "state": {
            "_view_name": "StyleView",
            "_model_name": "DescriptionStyleModel",
            "description_width": "",
            "_view_module": "@jupyter-widgets/base",
            "_model_module_version": "1.5.0",
            "_view_count": null,
            "_view_module_version": "1.2.0",
            "_model_module": "@jupyter-widgets/controls"
          }
        },
        "f5301c8158514da2a5e672a5110b2eb7": {
          "model_module": "@jupyter-widgets/base",
          "model_name": "LayoutModel",
          "state": {
            "_view_name": "LayoutView",
            "grid_template_rows": null,
            "right": null,
            "justify_content": null,
            "_view_module": "@jupyter-widgets/base",
            "overflow": null,
            "_model_module_version": "1.2.0",
            "_view_count": null,
            "flex_flow": null,
            "width": null,
            "min_width": null,
            "border": null,
            "align_items": null,
            "bottom": null,
            "_model_module": "@jupyter-widgets/base",
            "top": null,
            "grid_column": null,
            "overflow_y": null,
            "overflow_x": null,
            "grid_auto_flow": null,
            "grid_area": null,
            "grid_template_columns": null,
            "flex": null,
            "_model_name": "LayoutModel",
            "justify_items": null,
            "grid_row": null,
            "max_height": null,
            "align_content": null,
            "visibility": null,
            "align_self": null,
            "height": null,
            "min_height": null,
            "padding": null,
            "grid_auto_rows": null,
            "grid_gap": null,
            "max_width": null,
            "order": null,
            "_view_module_version": "1.2.0",
            "grid_template_areas": null,
            "object_position": null,
            "object_fit": null,
            "grid_auto_columns": null,
            "margin": null,
            "display": null,
            "left": null
          }
        },
        "2acc0816717449e488e167841c2a754d": {
          "model_module": "@jupyter-widgets/controls",
          "model_name": "HBoxModel",
          "state": {
            "_view_name": "HBoxView",
            "_dom_classes": [],
            "_model_name": "HBoxModel",
            "_view_module": "@jupyter-widgets/controls",
            "_model_module_version": "1.5.0",
            "_view_count": null,
            "_view_module_version": "1.5.0",
            "box_style": "",
            "layout": "IPY_MODEL_cee53e67e2604576a4069ca6e342fbd8",
            "_model_module": "@jupyter-widgets/controls",
            "children": [
              "IPY_MODEL_acf8416ed33c48d88195e5f4c0c11727",
              "IPY_MODEL_c221c7afb7354a5a8559003973512a95"
            ]
          }
        },
        "cee53e67e2604576a4069ca6e342fbd8": {
          "model_module": "@jupyter-widgets/base",
          "model_name": "LayoutModel",
          "state": {
            "_view_name": "LayoutView",
            "grid_template_rows": null,
            "right": null,
            "justify_content": null,
            "_view_module": "@jupyter-widgets/base",
            "overflow": null,
            "_model_module_version": "1.2.0",
            "_view_count": null,
            "flex_flow": null,
            "width": null,
            "min_width": null,
            "border": null,
            "align_items": null,
            "bottom": null,
            "_model_module": "@jupyter-widgets/base",
            "top": null,
            "grid_column": null,
            "overflow_y": null,
            "overflow_x": null,
            "grid_auto_flow": null,
            "grid_area": null,
            "grid_template_columns": null,
            "flex": null,
            "_model_name": "LayoutModel",
            "justify_items": null,
            "grid_row": null,
            "max_height": null,
            "align_content": null,
            "visibility": null,
            "align_self": null,
            "height": null,
            "min_height": null,
            "padding": null,
            "grid_auto_rows": null,
            "grid_gap": null,
            "max_width": null,
            "order": null,
            "_view_module_version": "1.2.0",
            "grid_template_areas": null,
            "object_position": null,
            "object_fit": null,
            "grid_auto_columns": null,
            "margin": null,
            "display": null,
            "left": null
          }
        },
        "acf8416ed33c48d88195e5f4c0c11727": {
          "model_module": "@jupyter-widgets/controls",
          "model_name": "FloatProgressModel",
          "state": {
            "_view_name": "ProgressView",
            "style": "IPY_MODEL_402549830db445ecac9aa65add4d98b0",
            "_dom_classes": [],
            "description": "Downloading: 100%",
            "_model_name": "FloatProgressModel",
            "bar_style": "success",
            "max": 435797,
            "_view_module": "@jupyter-widgets/controls",
            "_model_module_version": "1.5.0",
            "value": 435797,
            "_view_count": null,
            "_view_module_version": "1.5.0",
            "orientation": "horizontal",
            "min": 0,
            "description_tooltip": null,
            "_model_module": "@jupyter-widgets/controls",
            "layout": "IPY_MODEL_d332a910f74a47c8a90d4ff8d3695425"
          }
        },
        "c221c7afb7354a5a8559003973512a95": {
          "model_module": "@jupyter-widgets/controls",
          "model_name": "HTMLModel",
          "state": {
            "_view_name": "HTMLView",
            "style": "IPY_MODEL_1508b0806f7f46d982355c90a7798cdf",
            "_dom_classes": [],
            "description": "",
            "_model_name": "HTMLModel",
            "placeholder": "​",
            "_view_module": "@jupyter-widgets/controls",
            "_model_module_version": "1.5.0",
            "value": " 436k/436k [00:04&lt;00:00, 102kB/s]",
            "_view_count": null,
            "_view_module_version": "1.5.0",
            "description_tooltip": null,
            "_model_module": "@jupyter-widgets/controls",
            "layout": "IPY_MODEL_c17a228c110a4df6a6600c5a2b271fe1"
          }
        },
        "402549830db445ecac9aa65add4d98b0": {
          "model_module": "@jupyter-widgets/controls",
          "model_name": "ProgressStyleModel",
          "state": {
            "_view_name": "StyleView",
            "_model_name": "ProgressStyleModel",
            "description_width": "initial",
            "_view_module": "@jupyter-widgets/base",
            "_model_module_version": "1.5.0",
            "_view_count": null,
            "_view_module_version": "1.2.0",
            "bar_color": null,
            "_model_module": "@jupyter-widgets/controls"
          }
        },
        "d332a910f74a47c8a90d4ff8d3695425": {
          "model_module": "@jupyter-widgets/base",
          "model_name": "LayoutModel",
          "state": {
            "_view_name": "LayoutView",
            "grid_template_rows": null,
            "right": null,
            "justify_content": null,
            "_view_module": "@jupyter-widgets/base",
            "overflow": null,
            "_model_module_version": "1.2.0",
            "_view_count": null,
            "flex_flow": null,
            "width": null,
            "min_width": null,
            "border": null,
            "align_items": null,
            "bottom": null,
            "_model_module": "@jupyter-widgets/base",
            "top": null,
            "grid_column": null,
            "overflow_y": null,
            "overflow_x": null,
            "grid_auto_flow": null,
            "grid_area": null,
            "grid_template_columns": null,
            "flex": null,
            "_model_name": "LayoutModel",
            "justify_items": null,
            "grid_row": null,
            "max_height": null,
            "align_content": null,
            "visibility": null,
            "align_self": null,
            "height": null,
            "min_height": null,
            "padding": null,
            "grid_auto_rows": null,
            "grid_gap": null,
            "max_width": null,
            "order": null,
            "_view_module_version": "1.2.0",
            "grid_template_areas": null,
            "object_position": null,
            "object_fit": null,
            "grid_auto_columns": null,
            "margin": null,
            "display": null,
            "left": null
          }
        },
        "1508b0806f7f46d982355c90a7798cdf": {
          "model_module": "@jupyter-widgets/controls",
          "model_name": "DescriptionStyleModel",
          "state": {
            "_view_name": "StyleView",
            "_model_name": "DescriptionStyleModel",
            "description_width": "",
            "_view_module": "@jupyter-widgets/base",
            "_model_module_version": "1.5.0",
            "_view_count": null,
            "_view_module_version": "1.2.0",
            "_model_module": "@jupyter-widgets/controls"
          }
        },
        "c17a228c110a4df6a6600c5a2b271fe1": {
          "model_module": "@jupyter-widgets/base",
          "model_name": "LayoutModel",
          "state": {
            "_view_name": "LayoutView",
            "grid_template_rows": null,
            "right": null,
            "justify_content": null,
            "_view_module": "@jupyter-widgets/base",
            "overflow": null,
            "_model_module_version": "1.2.0",
            "_view_count": null,
            "flex_flow": null,
            "width": null,
            "min_width": null,
            "border": null,
            "align_items": null,
            "bottom": null,
            "_model_module": "@jupyter-widgets/base",
            "top": null,
            "grid_column": null,
            "overflow_y": null,
            "overflow_x": null,
            "grid_auto_flow": null,
            "grid_area": null,
            "grid_template_columns": null,
            "flex": null,
            "_model_name": "LayoutModel",
            "justify_items": null,
            "grid_row": null,
            "max_height": null,
            "align_content": null,
            "visibility": null,
            "align_self": null,
            "height": null,
            "min_height": null,
            "padding": null,
            "grid_auto_rows": null,
            "grid_gap": null,
            "max_width": null,
            "order": null,
            "_view_module_version": "1.2.0",
            "grid_template_areas": null,
            "object_position": null,
            "object_fit": null,
            "grid_auto_columns": null,
            "margin": null,
            "display": null,
            "left": null
          }
        },
        "4adf4ec44ec342918dec5ca7a584d040": {
          "model_module": "@jupyter-widgets/controls",
          "model_name": "HBoxModel",
          "state": {
            "_view_name": "HBoxView",
            "_dom_classes": [],
            "_model_name": "HBoxModel",
            "_view_module": "@jupyter-widgets/controls",
            "_model_module_version": "1.5.0",
            "_view_count": null,
            "_view_module_version": "1.5.0",
            "box_style": "",
            "layout": "IPY_MODEL_ad30b39826354777ab8a3113208040ef",
            "_model_module": "@jupyter-widgets/controls",
            "children": [
              "IPY_MODEL_87c3f925b6f746cab7979bc85067ab13",
              "IPY_MODEL_8af7ad5a6ce442b08680f024709c7366"
            ]
          }
        },
        "ad30b39826354777ab8a3113208040ef": {
          "model_module": "@jupyter-widgets/base",
          "model_name": "LayoutModel",
          "state": {
            "_view_name": "LayoutView",
            "grid_template_rows": null,
            "right": null,
            "justify_content": null,
            "_view_module": "@jupyter-widgets/base",
            "overflow": null,
            "_model_module_version": "1.2.0",
            "_view_count": null,
            "flex_flow": null,
            "width": null,
            "min_width": null,
            "border": null,
            "align_items": null,
            "bottom": null,
            "_model_module": "@jupyter-widgets/base",
            "top": null,
            "grid_column": null,
            "overflow_y": null,
            "overflow_x": null,
            "grid_auto_flow": null,
            "grid_area": null,
            "grid_template_columns": null,
            "flex": null,
            "_model_name": "LayoutModel",
            "justify_items": null,
            "grid_row": null,
            "max_height": null,
            "align_content": null,
            "visibility": null,
            "align_self": null,
            "height": null,
            "min_height": null,
            "padding": null,
            "grid_auto_rows": null,
            "grid_gap": null,
            "max_width": null,
            "order": null,
            "_view_module_version": "1.2.0",
            "grid_template_areas": null,
            "object_position": null,
            "object_fit": null,
            "grid_auto_columns": null,
            "margin": null,
            "display": null,
            "left": null
          }
        },
        "87c3f925b6f746cab7979bc85067ab13": {
          "model_module": "@jupyter-widgets/controls",
          "model_name": "FloatProgressModel",
          "state": {
            "_view_name": "ProgressView",
            "style": "IPY_MODEL_fa623f2b99e0469aa87e05b9afce5cb2",
            "_dom_classes": [],
            "description": "Downloading: 100%",
            "_model_name": "FloatProgressModel",
            "bar_style": "success",
            "max": 29,
            "_view_module": "@jupyter-widgets/controls",
            "_model_module_version": "1.5.0",
            "value": 29,
            "_view_count": null,
            "_view_module_version": "1.5.0",
            "orientation": "horizontal",
            "min": 0,
            "description_tooltip": null,
            "_model_module": "@jupyter-widgets/controls",
            "layout": "IPY_MODEL_5cb3f8f28a064b31ba8a3150d7fc5dd4"
          }
        },
        "8af7ad5a6ce442b08680f024709c7366": {
          "model_module": "@jupyter-widgets/controls",
          "model_name": "HTMLModel",
          "state": {
            "_view_name": "HTMLView",
            "style": "IPY_MODEL_90d2ed6f9fbe4e3c8bec617d0c7afb3c",
            "_dom_classes": [],
            "description": "",
            "_model_name": "HTMLModel",
            "placeholder": "​",
            "_view_module": "@jupyter-widgets/controls",
            "_model_module_version": "1.5.0",
            "value": " 29.0/29.0 [00:01&lt;00:00, 24.8B/s]",
            "_view_count": null,
            "_view_module_version": "1.5.0",
            "description_tooltip": null,
            "_model_module": "@jupyter-widgets/controls",
            "layout": "IPY_MODEL_e4f97359df98453b93f0c724c3460cfe"
          }
        },
        "fa623f2b99e0469aa87e05b9afce5cb2": {
          "model_module": "@jupyter-widgets/controls",
          "model_name": "ProgressStyleModel",
          "state": {
            "_view_name": "StyleView",
            "_model_name": "ProgressStyleModel",
            "description_width": "initial",
            "_view_module": "@jupyter-widgets/base",
            "_model_module_version": "1.5.0",
            "_view_count": null,
            "_view_module_version": "1.2.0",
            "bar_color": null,
            "_model_module": "@jupyter-widgets/controls"
          }
        },
        "5cb3f8f28a064b31ba8a3150d7fc5dd4": {
          "model_module": "@jupyter-widgets/base",
          "model_name": "LayoutModel",
          "state": {
            "_view_name": "LayoutView",
            "grid_template_rows": null,
            "right": null,
            "justify_content": null,
            "_view_module": "@jupyter-widgets/base",
            "overflow": null,
            "_model_module_version": "1.2.0",
            "_view_count": null,
            "flex_flow": null,
            "width": null,
            "min_width": null,
            "border": null,
            "align_items": null,
            "bottom": null,
            "_model_module": "@jupyter-widgets/base",
            "top": null,
            "grid_column": null,
            "overflow_y": null,
            "overflow_x": null,
            "grid_auto_flow": null,
            "grid_area": null,
            "grid_template_columns": null,
            "flex": null,
            "_model_name": "LayoutModel",
            "justify_items": null,
            "grid_row": null,
            "max_height": null,
            "align_content": null,
            "visibility": null,
            "align_self": null,
            "height": null,
            "min_height": null,
            "padding": null,
            "grid_auto_rows": null,
            "grid_gap": null,
            "max_width": null,
            "order": null,
            "_view_module_version": "1.2.0",
            "grid_template_areas": null,
            "object_position": null,
            "object_fit": null,
            "grid_auto_columns": null,
            "margin": null,
            "display": null,
            "left": null
          }
        },
        "90d2ed6f9fbe4e3c8bec617d0c7afb3c": {
          "model_module": "@jupyter-widgets/controls",
          "model_name": "DescriptionStyleModel",
          "state": {
            "_view_name": "StyleView",
            "_model_name": "DescriptionStyleModel",
            "description_width": "",
            "_view_module": "@jupyter-widgets/base",
            "_model_module_version": "1.5.0",
            "_view_count": null,
            "_view_module_version": "1.2.0",
            "_model_module": "@jupyter-widgets/controls"
          }
        },
        "e4f97359df98453b93f0c724c3460cfe": {
          "model_module": "@jupyter-widgets/base",
          "model_name": "LayoutModel",
          "state": {
            "_view_name": "LayoutView",
            "grid_template_rows": null,
            "right": null,
            "justify_content": null,
            "_view_module": "@jupyter-widgets/base",
            "overflow": null,
            "_model_module_version": "1.2.0",
            "_view_count": null,
            "flex_flow": null,
            "width": null,
            "min_width": null,
            "border": null,
            "align_items": null,
            "bottom": null,
            "_model_module": "@jupyter-widgets/base",
            "top": null,
            "grid_column": null,
            "overflow_y": null,
            "overflow_x": null,
            "grid_auto_flow": null,
            "grid_area": null,
            "grid_template_columns": null,
            "flex": null,
            "_model_name": "LayoutModel",
            "justify_items": null,
            "grid_row": null,
            "max_height": null,
            "align_content": null,
            "visibility": null,
            "align_self": null,
            "height": null,
            "min_height": null,
            "padding": null,
            "grid_auto_rows": null,
            "grid_gap": null,
            "max_width": null,
            "order": null,
            "_view_module_version": "1.2.0",
            "grid_template_areas": null,
            "object_position": null,
            "object_fit": null,
            "grid_auto_columns": null,
            "margin": null,
            "display": null,
            "left": null
          }
        },
        "d5a7f2eb75f24e31a19fac07640789c4": {
          "model_module": "@jupyter-widgets/controls",
          "model_name": "HBoxModel",
          "state": {
            "_view_name": "HBoxView",
            "_dom_classes": [],
            "_model_name": "HBoxModel",
            "_view_module": "@jupyter-widgets/controls",
            "_model_module_version": "1.5.0",
            "_view_count": null,
            "_view_module_version": "1.5.0",
            "box_style": "",
            "layout": "IPY_MODEL_ae2e7aec8ebe491f8417c704fe4614e1",
            "_model_module": "@jupyter-widgets/controls",
            "children": [
              "IPY_MODEL_9c43a6c745de4db685c26ba18596063e",
              "IPY_MODEL_1c6027f44b8c4d1d84aaf0225e4ac241"
            ]
          }
        },
        "ae2e7aec8ebe491f8417c704fe4614e1": {
          "model_module": "@jupyter-widgets/base",
          "model_name": "LayoutModel",
          "state": {
            "_view_name": "LayoutView",
            "grid_template_rows": null,
            "right": null,
            "justify_content": null,
            "_view_module": "@jupyter-widgets/base",
            "overflow": null,
            "_model_module_version": "1.2.0",
            "_view_count": null,
            "flex_flow": null,
            "width": null,
            "min_width": null,
            "border": null,
            "align_items": null,
            "bottom": null,
            "_model_module": "@jupyter-widgets/base",
            "top": null,
            "grid_column": null,
            "overflow_y": null,
            "overflow_x": null,
            "grid_auto_flow": null,
            "grid_area": null,
            "grid_template_columns": null,
            "flex": null,
            "_model_name": "LayoutModel",
            "justify_items": null,
            "grid_row": null,
            "max_height": null,
            "align_content": null,
            "visibility": null,
            "align_self": null,
            "height": null,
            "min_height": null,
            "padding": null,
            "grid_auto_rows": null,
            "grid_gap": null,
            "max_width": null,
            "order": null,
            "_view_module_version": "1.2.0",
            "grid_template_areas": null,
            "object_position": null,
            "object_fit": null,
            "grid_auto_columns": null,
            "margin": null,
            "display": null,
            "left": null
          }
        },
        "9c43a6c745de4db685c26ba18596063e": {
          "model_module": "@jupyter-widgets/controls",
          "model_name": "FloatProgressModel",
          "state": {
            "_view_name": "ProgressView",
            "style": "IPY_MODEL_27952392bb7d44d0ad9b78221c9a9515",
            "_dom_classes": [],
            "description": "Downloading: 100%",
            "_model_name": "FloatProgressModel",
            "bar_style": "success",
            "max": 1338740706,
            "_view_module": "@jupyter-widgets/controls",
            "_model_module_version": "1.5.0",
            "value": 1338740706,
            "_view_count": null,
            "_view_module_version": "1.5.0",
            "orientation": "horizontal",
            "min": 0,
            "description_tooltip": null,
            "_model_module": "@jupyter-widgets/controls",
            "layout": "IPY_MODEL_d33dc4844f1d46ccac83e8c535ceb804"
          }
        },
        "1c6027f44b8c4d1d84aaf0225e4ac241": {
          "model_module": "@jupyter-widgets/controls",
          "model_name": "HTMLModel",
          "state": {
            "_view_name": "HTMLView",
            "style": "IPY_MODEL_6c81384a42b44e08b31cd60f254e65cd",
            "_dom_classes": [],
            "description": "",
            "_model_name": "HTMLModel",
            "placeholder": "​",
            "_view_module": "@jupyter-widgets/controls",
            "_model_module_version": "1.5.0",
            "value": " 1.34G/1.34G [00:24&lt;00:00, 55.4MB/s]",
            "_view_count": null,
            "_view_module_version": "1.5.0",
            "description_tooltip": null,
            "_model_module": "@jupyter-widgets/controls",
            "layout": "IPY_MODEL_4fdfc76924274ff38ad25ee17704cd01"
          }
        },
        "27952392bb7d44d0ad9b78221c9a9515": {
          "model_module": "@jupyter-widgets/controls",
          "model_name": "ProgressStyleModel",
          "state": {
            "_view_name": "StyleView",
            "_model_name": "ProgressStyleModel",
            "description_width": "initial",
            "_view_module": "@jupyter-widgets/base",
            "_model_module_version": "1.5.0",
            "_view_count": null,
            "_view_module_version": "1.2.0",
            "bar_color": null,
            "_model_module": "@jupyter-widgets/controls"
          }
        },
        "d33dc4844f1d46ccac83e8c535ceb804": {
          "model_module": "@jupyter-widgets/base",
          "model_name": "LayoutModel",
          "state": {
            "_view_name": "LayoutView",
            "grid_template_rows": null,
            "right": null,
            "justify_content": null,
            "_view_module": "@jupyter-widgets/base",
            "overflow": null,
            "_model_module_version": "1.2.0",
            "_view_count": null,
            "flex_flow": null,
            "width": null,
            "min_width": null,
            "border": null,
            "align_items": null,
            "bottom": null,
            "_model_module": "@jupyter-widgets/base",
            "top": null,
            "grid_column": null,
            "overflow_y": null,
            "overflow_x": null,
            "grid_auto_flow": null,
            "grid_area": null,
            "grid_template_columns": null,
            "flex": null,
            "_model_name": "LayoutModel",
            "justify_items": null,
            "grid_row": null,
            "max_height": null,
            "align_content": null,
            "visibility": null,
            "align_self": null,
            "height": null,
            "min_height": null,
            "padding": null,
            "grid_auto_rows": null,
            "grid_gap": null,
            "max_width": null,
            "order": null,
            "_view_module_version": "1.2.0",
            "grid_template_areas": null,
            "object_position": null,
            "object_fit": null,
            "grid_auto_columns": null,
            "margin": null,
            "display": null,
            "left": null
          }
        },
        "6c81384a42b44e08b31cd60f254e65cd": {
          "model_module": "@jupyter-widgets/controls",
          "model_name": "DescriptionStyleModel",
          "state": {
            "_view_name": "StyleView",
            "_model_name": "DescriptionStyleModel",
            "description_width": "",
            "_view_module": "@jupyter-widgets/base",
            "_model_module_version": "1.5.0",
            "_view_count": null,
            "_view_module_version": "1.2.0",
            "_model_module": "@jupyter-widgets/controls"
          }
        },
        "4fdfc76924274ff38ad25ee17704cd01": {
          "model_module": "@jupyter-widgets/base",
          "model_name": "LayoutModel",
          "state": {
            "_view_name": "LayoutView",
            "grid_template_rows": null,
            "right": null,
            "justify_content": null,
            "_view_module": "@jupyter-widgets/base",
            "overflow": null,
            "_model_module_version": "1.2.0",
            "_view_count": null,
            "flex_flow": null,
            "width": null,
            "min_width": null,
            "border": null,
            "align_items": null,
            "bottom": null,
            "_model_module": "@jupyter-widgets/base",
            "top": null,
            "grid_column": null,
            "overflow_y": null,
            "overflow_x": null,
            "grid_auto_flow": null,
            "grid_area": null,
            "grid_template_columns": null,
            "flex": null,
            "_model_name": "LayoutModel",
            "justify_items": null,
            "grid_row": null,
            "max_height": null,
            "align_content": null,
            "visibility": null,
            "align_self": null,
            "height": null,
            "min_height": null,
            "padding": null,
            "grid_auto_rows": null,
            "grid_gap": null,
            "max_width": null,
            "order": null,
            "_view_module_version": "1.2.0",
            "grid_template_areas": null,
            "object_position": null,
            "object_fit": null,
            "grid_auto_columns": null,
            "margin": null,
            "display": null,
            "left": null
          }
        }
      }
    },
    "accelerator": "GPU"
  },
  "cells": [
    {
      "cell_type": "markdown",
      "metadata": {
        "id": "view-in-github",
        "colab_type": "text"
      },
      "source": [
        "<a href=\"https://colab.research.google.com/github/David9857/VQA/blob/main/KAN.ipynb\" target=\"_parent\"><img src=\"https://colab.research.google.com/assets/colab-badge.svg\" alt=\"Open In Colab\"/></a>"
      ]
    },
    {
      "cell_type": "code",
      "metadata": {
        "colab": {
          "base_uri": "https://localhost:8080/"
        },
        "id": "ZLzK8c7pgGsY",
        "outputId": "ae054c50-014c-4622-a609-fef0ae7d7bef"
      },
      "source": [
        "from google.colab import drive\n",
        "drive.mount('/content/drive')"
      ],
      "execution_count": null,
      "outputs": [
        {
          "output_type": "stream",
          "text": [
            "Mounted at /content/drive\n"
          ],
          "name": "stdout"
        }
      ]
    },
    {
      "cell_type": "markdown",
      "metadata": {
        "id": "DyfkKE3kK9fG"
      },
      "source": [
        "# Test"
      ]
    },
    {
      "cell_type": "code",
      "metadata": {
        "id": "PkvCO4d3wXik"
      },
      "source": [
        "!rm -r /content/data/knowledge_embeddings"
      ],
      "execution_count": null,
      "outputs": []
    },
    {
      "cell_type": "code",
      "metadata": {
        "id": "WCVUo3nidCJz"
      },
      "source": [
        "!cp -r /content/data/knowledge_embeddings /content/drive/MyDrive/data"
      ],
      "execution_count": null,
      "outputs": []
    },
    {
      "cell_type": "code",
      "metadata": {
        "colab": {
          "base_uri": "https://localhost:8080/"
        },
        "id": "2sHQKFo0MaI8",
        "outputId": "07975b0e-ec21-457d-e15d-9c5df196a184"
      },
      "source": [
        "!ls /content/drive/MyDrive/data/knowledge_embeddings"
      ],
      "execution_count": null,
      "outputs": [
        {
          "output_type": "stream",
          "text": [
            "100.npy  15.npy   218.npy  277.npy  335.npy  394.npy  452.npy  510.npy\t56.npy\n",
            "101.npy  160.npy  219.npy  278.npy  336.npy  395.npy  453.npy  511.npy\t570.npy\n",
            "102.npy  161.npy  21.npy   279.npy  337.npy  396.npy  454.npy  512.npy\t571.npy\n",
            "103.npy  162.npy  220.npy  27.npy   338.npy  397.npy  455.npy  513.npy\t572.npy\n",
            "104.npy  163.npy  221.npy  280.npy  339.npy  398.npy  456.npy  514.npy\t573.npy\n",
            "105.npy  164.npy  222.npy  281.npy  33.npy   399.npy  457.npy  515.npy\t574.npy\n",
            "106.npy  165.npy  223.npy  282.npy  340.npy  39.npy   458.npy  516.npy\t575.npy\n",
            "107.npy  166.npy  224.npy  283.npy  341.npy  3.npy    459.npy  517.npy\t576.npy\n",
            "108.npy  167.npy  225.npy  284.npy  342.npy  400.npy  45.npy   518.npy\t577.npy\n",
            "109.npy  168.npy  226.npy  285.npy  343.npy  401.npy  460.npy  519.npy\t578.npy\n",
            "10.npy\t 169.npy  227.npy  286.npy  344.npy  402.npy  461.npy  51.npy\t579.npy\n",
            "110.npy  16.npy   228.npy  287.npy  345.npy  403.npy  462.npy  520.npy\t57.npy\n",
            "111.npy  170.npy  229.npy  288.npy  346.npy  404.npy  463.npy  521.npy\t580.npy\n",
            "112.npy  171.npy  22.npy   289.npy  347.npy  405.npy  464.npy  522.npy\t581.npy\n",
            "113.npy  172.npy  230.npy  28.npy   348.npy  406.npy  465.npy  523.npy\t582.npy\n",
            "114.npy  173.npy  231.npy  290.npy  349.npy  407.npy  466.npy  524.npy\t583.npy\n",
            "115.npy  174.npy  232.npy  291.npy  34.npy   408.npy  467.npy  525.npy\t584.npy\n",
            "116.npy  175.npy  233.npy  292.npy  350.npy  409.npy  468.npy  526.npy\t58.npy\n",
            "117.npy  176.npy  234.npy  293.npy  351.npy  40.npy   469.npy  527.npy\t59.npy\n",
            "118.npy  177.npy  235.npy  294.npy  352.npy  410.npy  46.npy   528.npy\t5.npy\n",
            "119.npy  178.npy  236.npy  295.npy  353.npy  411.npy  470.npy  529.npy\t60.npy\n",
            "11.npy\t 179.npy  237.npy  296.npy  354.npy  412.npy  471.npy  52.npy\t61.npy\n",
            "120.npy  17.npy   238.npy  297.npy  355.npy  413.npy  472.npy  530.npy\t62.npy\n",
            "121.npy  180.npy  239.npy  298.npy  356.npy  414.npy  473.npy  531.npy\t63.npy\n",
            "122.npy  181.npy  23.npy   299.npy  357.npy  415.npy  474.npy  532.npy\t64.npy\n",
            "123.npy  182.npy  240.npy  29.npy   358.npy  416.npy  475.npy  533.npy\t65.npy\n",
            "124.npy  183.npy  241.npy  2.npy    359.npy  417.npy  476.npy  534.npy\t66.npy\n",
            "125.npy  184.npy  242.npy  300.npy  35.npy   418.npy  477.npy  535.npy\t67.npy\n",
            "126.npy  185.npy  243.npy  301.npy  360.npy  419.npy  478.npy  536.npy\t68.npy\n",
            "127.npy  186.npy  244.npy  302.npy  361.npy  41.npy   479.npy  537.npy\t69.npy\n",
            "128.npy  187.npy  245.npy  303.npy  362.npy  420.npy  47.npy   538.npy\t6.npy\n",
            "129.npy  188.npy  246.npy  304.npy  363.npy  421.npy  480.npy  539.npy\t70.npy\n",
            "12.npy\t 189.npy  247.npy  305.npy  364.npy  422.npy  481.npy  53.npy\t71.npy\n",
            "130.npy  18.npy   248.npy  306.npy  365.npy  423.npy  482.npy  540.npy\t72.npy\n",
            "131.npy  190.npy  249.npy  307.npy  366.npy  424.npy  483.npy  541.npy\t73.npy\n",
            "132.npy  191.npy  24.npy   308.npy  367.npy  425.npy  484.npy  542.npy\t74.npy\n",
            "133.npy  192.npy  250.npy  309.npy  368.npy  426.npy  485.npy  543.npy\t75.npy\n",
            "134.npy  193.npy  251.npy  30.npy   369.npy  427.npy  486.npy  544.npy\t76.npy\n",
            "135.npy  194.npy  252.npy  310.npy  36.npy   428.npy  487.npy  545.npy\t77.npy\n",
            "136.npy  195.npy  253.npy  311.npy  370.npy  429.npy  488.npy  546.npy\t78.npy\n",
            "137.npy  196.npy  254.npy  312.npy  371.npy  42.npy   489.npy  547.npy\t79.npy\n",
            "138.npy  197.npy  255.npy  313.npy  372.npy  430.npy  48.npy   548.npy\t7.npy\n",
            "139.npy  198.npy  256.npy  314.npy  373.npy  431.npy  490.npy  549.npy\t80.npy\n",
            "13.npy\t 199.npy  257.npy  315.npy  374.npy  432.npy  491.npy  54.npy\t81.npy\n",
            "140.npy  19.npy   258.npy  316.npy  375.npy  433.npy  492.npy  550.npy\t82.npy\n",
            "141.npy  1.npy\t  259.npy  317.npy  376.npy  434.npy  493.npy  551.npy\t83.npy\n",
            "142.npy  200.npy  25.npy   318.npy  377.npy  435.npy  494.npy  552.npy\t84.npy\n",
            "143.npy  201.npy  260.npy  319.npy  378.npy  436.npy  495.npy  553.npy\t85.npy\n",
            "144.npy  202.npy  261.npy  31.npy   379.npy  437.npy  496.npy  554.npy\t86.npy\n",
            "145.npy  203.npy  262.npy  320.npy  37.npy   438.npy  497.npy  555.npy\t87.npy\n",
            "146.npy  204.npy  263.npy  321.npy  380.npy  439.npy  498.npy  556.npy\t88.npy\n",
            "147.npy  205.npy  264.npy  322.npy  381.npy  43.npy   499.npy  557.npy\t89.npy\n",
            "148.npy  206.npy  265.npy  323.npy  382.npy  440.npy  49.npy   558.npy\t8.npy\n",
            "149.npy  207.npy  266.npy  324.npy  383.npy  441.npy  4.npy    559.npy\t90.npy\n",
            "14.npy\t 208.npy  267.npy  325.npy  384.npy  442.npy  500.npy  55.npy\t91.npy\n",
            "150.npy  209.npy  268.npy  326.npy  385.npy  443.npy  501.npy  560.npy\t92.npy\n",
            "151.npy  20.npy   269.npy  327.npy  386.npy  444.npy  502.npy  561.npy\t93.npy\n",
            "152.npy  210.npy  26.npy   328.npy  387.npy  445.npy  503.npy  562.npy\t94.npy\n",
            "153.npy  211.npy  270.npy  329.npy  388.npy  446.npy  504.npy  563.npy\t95.npy\n",
            "154.npy  212.npy  271.npy  32.npy   389.npy  447.npy  505.npy  564.npy\t96.npy\n",
            "155.npy  213.npy  272.npy  330.npy  38.npy   448.npy  506.npy  565.npy\t97.npy\n",
            "156.npy  214.npy  273.npy  331.npy  390.npy  449.npy  507.npy  566.npy\t98.npy\n",
            "157.npy  215.npy  274.npy  332.npy  391.npy  44.npy   508.npy  567.npy\t99.npy\n",
            "158.npy  216.npy  275.npy  333.npy  392.npy  450.npy  509.npy  568.npy\t9.npy\n",
            "159.npy  217.npy  276.npy  334.npy  393.npy  451.npy  50.npy   569.npy\n"
          ],
          "name": "stdout"
        }
      ]
    },
    {
      "cell_type": "code",
      "metadata": {
        "id": "9jWefj388PdK"
      },
      "source": [
        "!unzip -uq '/content/drive/MyDrive/data_path.zip' -d '/content/drive/MyDrive/data_path'"
      ],
      "execution_count": null,
      "outputs": []
    },
    {
      "cell_type": "code",
      "metadata": {
        "id": "aTyyvxP0N0X8"
      },
      "source": [
        "import os\n",
        "os.environ['TF_CPP_MIN_LOG_LEVEL'] = '3'\n",
        "import tensorflow as tf\n",
        "import pandas as pd\n",
        "import time\n",
        "import pathlib\n",
        "from utils.load_data import DataLoader\n",
        "from utils.evaluation import AnswerEvaluator\n",
        "from utils.training_toolkit import CustomSchedule, loss_function\n",
        "from models.Transformer.transformers import VQATransformer\n",
        "from models.Transformer.masks import create_masks"
      ],
      "execution_count": null,
      "outputs": []
    },
    {
      "cell_type": "code",
      "metadata": {
        "id": "RN20dq66N1Z1"
      },
      "source": [
        "transformer = VQATransformer(num_layers, d_model, num_heads, dff, vocab_size, pe_input, pe_output,\n",
        "                          pretrained_cnn_type=cnn_type)\n",
        "\n",
        "learning_rate = CustomSchedule(d_model)\n",
        "optimizer = tf.keras.optimizers.Adam(learning_rate, beta_1=0.9, beta_2=0.98, epsilon=1e-9)\n",
        "\n",
        "train_loss = tf.keras.metrics.Mean(name='train_loss')\n",
        "train_accuracy = tf.keras.metrics.SparseCategoricalAccuracy(name='train_accuracy')\n",
        "\n",
        "ckpt = tf.train.Checkpoint(transformer=transformer,\n",
        "                           optimizer=optimizer)\n",
        "\n",
        "ckpt_manager = tf.train.CheckpointManager(ckpt, check_point_path, max_to_keep=5)"
      ],
      "execution_count": null,
      "outputs": []
    },
    {
      "cell_type": "markdown",
      "metadata": {
        "id": "hXYq45L5puye"
      },
      "source": [
        "# Download and unzip data"
      ]
    },
    {
      "cell_type": "code",
      "metadata": {
        "id": "nCS2_k4hp0eP"
      },
      "source": [
        "!cp /content/drive/MyDrive/files/data_path.zip /content\n",
        "!unzip data_path.zip \"data/jsons/*\" \"data/pic/*\" \"data/ques_embeddings/bioelmo/*\" \"data/answer_word_frequency.csv\" \"data/answer_word_frequency.xlsx\" -d /content"
      ],
      "execution_count": null,
      "outputs": []
    },
    {
      "cell_type": "markdown",
      "metadata": {
        "id": "kbsW4-ZG6lJ1"
      },
      "source": [
        "# Object detection"
      ]
    },
    {
      "cell_type": "code",
      "metadata": {
        "id": "UUHwuFbg6omf"
      },
      "source": [
        "!git clone https://github.com/tensorflow/models.git"
      ],
      "execution_count": null,
      "outputs": []
    },
    {
      "cell_type": "code",
      "metadata": {
        "id": "w1fRKB5T84NT"
      },
      "source": [
        "%%bash\n",
        "cd models/research/\n",
        "protoc object_detection/protos/*.proto --python_out=.\n",
        "cp object_detection/packages/tf2/setup.py .\n",
        "python -m pip install ."
      ],
      "execution_count": null,
      "outputs": []
    },
    {
      "cell_type": "code",
      "metadata": {
        "id": "M3Mde3PC9Ipi"
      },
      "source": [
        "# test installation\n",
        "!python object_detection/builders/model_builder_tf2_test.py"
      ],
      "execution_count": null,
      "outputs": []
    },
    {
      "cell_type": "code",
      "metadata": {
        "id": "DfWKenMqAErs"
      },
      "source": [
        "!cp /content/models/research/object_detection/colab_tutorials/inference_from_saved_model_tf2_colab.ipynb /content/drive/MyDrive/Colab\\ Notebooks"
      ],
      "execution_count": null,
      "outputs": []
    },
    {
      "cell_type": "markdown",
      "metadata": {
        "id": "xH6h0M89XcS_"
      },
      "source": [
        "# Entity extraction"
      ]
    },
    {
      "cell_type": "markdown",
      "metadata": {
        "id": "vmTWSXHG-Z2B"
      },
      "source": [
        "## test"
      ]
    },
    {
      "cell_type": "code",
      "metadata": {
        "id": "eCeCuMopXg_Y"
      },
      "source": [
        "# The textual entities are KG\n",
        "# entities associated with key phrases of the question, where we utilize the Stanford NLP Dependency Parser [4] and Stanford Named\n",
        "# Entity Recognizer [5] to analyze the question and extract all noun\n",
        "# phrases, verb-object phrases and named entities as the key phrases.\n"
      ],
      "execution_count": null,
      "outputs": []
    },
    {
      "cell_type": "code",
      "metadata": {
        "id": "apYUbIg6qgDr"
      },
      "source": [
        "from sklearn.utils import shuffle\n",
        "import pandas as pd\n",
        "import pathlib\n",
        "\n",
        "root = pathlib.Path('/content/data')\n",
        "d = shuffle(pd.read_json(root.joinpath('jsons/open_ended').with_suffix('.json')), random_state=1)"
      ],
      "execution_count": null,
      "outputs": []
    },
    {
      "cell_type": "code",
      "metadata": {
        "colab": {
          "base_uri": "https://localhost:8080/"
        },
        "id": "pdCAsJgwrQ6o",
        "outputId": "faf0c604-231d-469d-cbbe-19a43634fa70"
      },
      "source": [
        "dq = d['Questions']\n",
        "print(dq)"
      ],
      "execution_count": null,
      "outputs": [
        {
          "output_type": "stream",
          "text": [
            "12134                                     What is present?\n",
            "9969                                      What is present?\n",
            "3785                                     What is present ?\n",
            "2947                            What does this image show?\n",
            "858                     What are colors of these hormones?\n",
            "                               ...                        \n",
            "7813                                      What is present?\n",
            "10955                           What does this image show?\n",
            "5192                            Where does this belong to?\n",
            "12172                                     What is present?\n",
            "235      How many copies does the red probe hybridize t...\n",
            "Name: Questions, Length: 16429, dtype: object\n"
          ],
          "name": "stdout"
        }
      ]
    },
    {
      "cell_type": "code",
      "metadata": {
        "colab": {
          "base_uri": "https://localhost:8080/"
        },
        "id": "czfdN8xMufUY",
        "outputId": "745c9707-cf27-40a2-8187-ebbf30567e2b"
      },
      "source": [
        "print(dq[0])"
      ],
      "execution_count": null,
      "outputs": [
        {
          "output_type": "stream",
          "text": [
            "What are positively charged,  thus allowing the compaction of the negatively charged DNA?\n"
          ],
          "name": "stdout"
        }
      ]
    },
    {
      "cell_type": "code",
      "metadata": {
        "colab": {
          "base_uri": "https://localhost:8080/"
        },
        "id": "qxl3xZKrxJ7e",
        "outputId": "f4a4047e-081f-4418-d40f-4608b7d20a30"
      },
      "source": [
        "pip install stanfordcorenlp"
      ],
      "execution_count": null,
      "outputs": [
        {
          "output_type": "stream",
          "text": [
            "Collecting stanfordcorenlp\n",
            "  Downloading https://files.pythonhosted.org/packages/35/cb/0a271890bbe3a77fc1aca2bc3a58b14e11799ea77cb5f7d6fb0a8b4c46fa/stanfordcorenlp-3.9.1.1-py2.py3-none-any.whl\n",
            "Requirement already satisfied: psutil in /usr/local/lib/python3.7/dist-packages (from stanfordcorenlp) (5.4.8)\n",
            "Requirement already satisfied: requests in /usr/local/lib/python3.7/dist-packages (from stanfordcorenlp) (2.23.0)\n",
            "Requirement already satisfied: idna<3,>=2.5 in /usr/local/lib/python3.7/dist-packages (from requests->stanfordcorenlp) (2.10)\n",
            "Requirement already satisfied: certifi>=2017.4.17 in /usr/local/lib/python3.7/dist-packages (from requests->stanfordcorenlp) (2020.12.5)\n",
            "Requirement already satisfied: chardet<4,>=3.0.2 in /usr/local/lib/python3.7/dist-packages (from requests->stanfordcorenlp) (3.0.4)\n",
            "Requirement already satisfied: urllib3!=1.25.0,!=1.25.1,<1.26,>=1.21.1 in /usr/local/lib/python3.7/dist-packages (from requests->stanfordcorenlp) (1.24.3)\n",
            "Installing collected packages: stanfordcorenlp\n",
            "Successfully installed stanfordcorenlp-3.9.1.1\n"
          ],
          "name": "stdout"
        }
      ]
    },
    {
      "cell_type": "markdown",
      "metadata": {
        "id": "8rxjHyNA-cHL"
      },
      "source": [
        "## Extraction Method"
      ]
    },
    {
      "cell_type": "code",
      "metadata": {
        "id": "vr2jyKl8tgQ-"
      },
      "source": [
        "import spacy\n",
        "nlp = spacy.load(\"en_core_web_sm\")\n",
        "\n",
        "def ectract_query(ques):\n",
        "  qs = nlp(ques)\n",
        "  queries = []\n",
        "  for tk in qs:\n",
        "    # print(tk.text,'|',tk.pos_)\n",
        "    if tk.pos_ == 'VERB' or tk.pos_ == 'NOUN' or tk.pos_ == 'ADJ':\n",
        "      queries.append(tk.lemma_)\n",
        "  return queries\n",
        "\n",
        "\n",
        "# print(ectract_query(dq[0]))"
      ],
      "execution_count": null,
      "outputs": []
    },
    {
      "cell_type": "code",
      "metadata": {
        "id": "xjE4hHMP8MA6"
      },
      "source": [
        "def knowledge_retrieval(queries):\n",
        "  kns = []\n",
        "  for q in queries:\n",
        "    kns += query_knowledge(q)\n",
        "  return(kns)\n",
        "\n",
        "# queries = ectract_query(dq[0])\n",
        "# query_knowledge"
      ],
      "execution_count": null,
      "outputs": []
    },
    {
      "cell_type": "markdown",
      "metadata": {
        "id": "aBNyr_AFZMUl"
      },
      "source": [
        "# Knowledge Embeddings"
      ]
    },
    {
      "cell_type": "code",
      "metadata": {
        "colab": {
          "base_uri": "https://localhost:8080/"
        },
        "id": "RxdFiV7RPUpF",
        "outputId": "2e537f30-d23a-4334-f885-e742f17d959d"
      },
      "source": [
        "pip install transformers"
      ],
      "execution_count": null,
      "outputs": [
        {
          "output_type": "stream",
          "text": [
            "Collecting transformers\n",
            "\u001b[?25l  Downloading https://files.pythonhosted.org/packages/d8/b2/57495b5309f09fa501866e225c84532d1fd89536ea62406b2181933fb418/transformers-4.5.1-py3-none-any.whl (2.1MB)\n",
            "\u001b[K     |████████████████████████████████| 2.1MB 5.1MB/s \n",
            "\u001b[?25hRequirement already satisfied: filelock in /usr/local/lib/python3.7/dist-packages (from transformers) (3.0.12)\n",
            "Requirement already satisfied: regex!=2019.12.17 in /usr/local/lib/python3.7/dist-packages (from transformers) (2019.12.20)\n",
            "Collecting tokenizers<0.11,>=0.10.1\n",
            "\u001b[?25l  Downloading https://files.pythonhosted.org/packages/ae/04/5b870f26a858552025a62f1649c20d29d2672c02ff3c3fb4c688ca46467a/tokenizers-0.10.2-cp37-cp37m-manylinux2010_x86_64.whl (3.3MB)\n",
            "\u001b[K     |████████████████████████████████| 3.3MB 17.5MB/s \n",
            "\u001b[?25hRequirement already satisfied: requests in /usr/local/lib/python3.7/dist-packages (from transformers) (2.23.0)\n",
            "Requirement already satisfied: importlib-metadata; python_version < \"3.8\" in /usr/local/lib/python3.7/dist-packages (from transformers) (3.10.0)\n",
            "Requirement already satisfied: packaging in /usr/local/lib/python3.7/dist-packages (from transformers) (20.9)\n",
            "Collecting sacremoses\n",
            "\u001b[?25l  Downloading https://files.pythonhosted.org/packages/08/cd/342e584ee544d044fb573ae697404ce22ede086c9e87ce5960772084cad0/sacremoses-0.0.44.tar.gz (862kB)\n",
            "\u001b[K     |████████████████████████████████| 870kB 45.1MB/s \n",
            "\u001b[?25hRequirement already satisfied: numpy>=1.17 in /usr/local/lib/python3.7/dist-packages (from transformers) (1.19.5)\n",
            "Requirement already satisfied: tqdm>=4.27 in /usr/local/lib/python3.7/dist-packages (from transformers) (4.41.1)\n",
            "Requirement already satisfied: chardet<4,>=3.0.2 in /usr/local/lib/python3.7/dist-packages (from requests->transformers) (3.0.4)\n",
            "Requirement already satisfied: urllib3!=1.25.0,!=1.25.1,<1.26,>=1.21.1 in /usr/local/lib/python3.7/dist-packages (from requests->transformers) (1.24.3)\n",
            "Requirement already satisfied: idna<3,>=2.5 in /usr/local/lib/python3.7/dist-packages (from requests->transformers) (2.10)\n",
            "Requirement already satisfied: certifi>=2017.4.17 in /usr/local/lib/python3.7/dist-packages (from requests->transformers) (2020.12.5)\n",
            "Requirement already satisfied: zipp>=0.5 in /usr/local/lib/python3.7/dist-packages (from importlib-metadata; python_version < \"3.8\"->transformers) (3.4.1)\n",
            "Requirement already satisfied: typing-extensions>=3.6.4; python_version < \"3.8\" in /usr/local/lib/python3.7/dist-packages (from importlib-metadata; python_version < \"3.8\"->transformers) (3.7.4.3)\n",
            "Requirement already satisfied: pyparsing>=2.0.2 in /usr/local/lib/python3.7/dist-packages (from packaging->transformers) (2.4.7)\n",
            "Requirement already satisfied: six in /usr/local/lib/python3.7/dist-packages (from sacremoses->transformers) (1.15.0)\n",
            "Requirement already satisfied: click in /usr/local/lib/python3.7/dist-packages (from sacremoses->transformers) (7.1.2)\n",
            "Requirement already satisfied: joblib in /usr/local/lib/python3.7/dist-packages (from sacremoses->transformers) (1.0.1)\n",
            "Building wheels for collected packages: sacremoses\n",
            "  Building wheel for sacremoses (setup.py) ... \u001b[?25l\u001b[?25hdone\n",
            "  Created wheel for sacremoses: filename=sacremoses-0.0.44-cp37-none-any.whl size=886084 sha256=c9eb19c4c6f31cf041e77b5fd4bdd972a89dac994648ceceab6a7f083ba99588\n",
            "  Stored in directory: /root/.cache/pip/wheels/3e/fb/c0/13ab4d63d537658f448366744654323077c4d90069b6512f3c\n",
            "Successfully built sacremoses\n",
            "Installing collected packages: tokenizers, sacremoses, transformers\n",
            "Successfully installed sacremoses-0.0.44 tokenizers-0.10.2 transformers-4.5.1\n"
          ],
          "name": "stdout"
        }
      ]
    },
    {
      "cell_type": "code",
      "metadata": {
        "id": "POFI_kfc-fJS",
        "colab": {
          "base_uri": "https://localhost:8080/",
          "height": 267,
          "referenced_widgets": [
            "7fea811fb464480abf1e3caf0968e1e3",
            "ab17f772b18149ada88c6faa94e7aa09",
            "21fa66e20a86472e977f7714a279a79a",
            "fdf4f76900f94c30b5dde182e4e58dfa",
            "8654ecde490a4c5d84a09a0107ea4fe4",
            "f5d2a610de7f4b0ca870906e494b4e3b",
            "8430d6b8a6004d118e5a6813195deb7b",
            "0c2c202c399d430a87c125d0107d8470",
            "10b3143905ba4dcb8c51b92467baa262",
            "e3fbd61575b047b0b5590f36ed131672",
            "e9de751f44364869aa3752b7fc579f60",
            "361f1ef65f6f44449d038026cd32b0a5",
            "f204ce2ac18c466f97501c3d99c64cb4",
            "4585319aa1894083a0ab89f8ab3ca35d",
            "0e71fe8be82848628b4f98c6fd3878d9",
            "f5301c8158514da2a5e672a5110b2eb7",
            "2acc0816717449e488e167841c2a754d",
            "cee53e67e2604576a4069ca6e342fbd8",
            "acf8416ed33c48d88195e5f4c0c11727",
            "c221c7afb7354a5a8559003973512a95",
            "402549830db445ecac9aa65add4d98b0",
            "d332a910f74a47c8a90d4ff8d3695425",
            "1508b0806f7f46d982355c90a7798cdf",
            "c17a228c110a4df6a6600c5a2b271fe1",
            "4adf4ec44ec342918dec5ca7a584d040",
            "ad30b39826354777ab8a3113208040ef",
            "87c3f925b6f746cab7979bc85067ab13",
            "8af7ad5a6ce442b08680f024709c7366",
            "fa623f2b99e0469aa87e05b9afce5cb2",
            "5cb3f8f28a064b31ba8a3150d7fc5dd4",
            "90d2ed6f9fbe4e3c8bec617d0c7afb3c",
            "e4f97359df98453b93f0c724c3460cfe",
            "d5a7f2eb75f24e31a19fac07640789c4",
            "ae2e7aec8ebe491f8417c704fe4614e1",
            "9c43a6c745de4db685c26ba18596063e",
            "1c6027f44b8c4d1d84aaf0225e4ac241",
            "27952392bb7d44d0ad9b78221c9a9515",
            "d33dc4844f1d46ccac83e8c535ceb804",
            "6c81384a42b44e08b31cd60f254e65cd",
            "4fdfc76924274ff38ad25ee17704cd01"
          ]
        },
        "outputId": "ba493753-fff5-4ac9-dd18-587031ee26b3"
      },
      "source": [
        "import torch\n",
        "from transformers import AutoModel, AutoTokenizer\n",
        "import numpy as np\n",
        "import json\n",
        "import re\n",
        "import os\n",
        "\n",
        "tokenizer = AutoTokenizer.from_pretrained(\"bert-large-cased\", do_lower_case=True)\n",
        "model = AutoModel.from_pretrained(\"bert-large-cased\", output_hidden_states=True)\n",
        "\n",
        "with open('/content/data/jsons/QA.json', 'r', encoding='utf-8') as f:\n",
        "    data = json.load(f)\n",
        "\n",
        "\n",
        "# def preprocess_sentence(w):\n",
        "#     w = w.lower().strip()\n",
        "#     w = re.sub(r'[\" \"]+', \" \", w)\n",
        "#     w = re.sub(r\"[^a-zA-Z ]\", \"\", w)\n",
        "#     w = w.strip()\n",
        "#     return w\n",
        "\n",
        "\n",
        "path = '/content/data/knowledge_embeddings'\n",
        "if not os.path.exists(path):\n",
        "    os.mkdir(path)\n"
      ],
      "execution_count": null,
      "outputs": [
        {
          "output_type": "display_data",
          "data": {
            "application/vnd.jupyter.widget-view+json": {
              "model_id": "7fea811fb464480abf1e3caf0968e1e3",
              "version_minor": 0,
              "version_major": 2
            },
            "text/plain": [
              "HBox(children=(FloatProgress(value=0.0, description='Downloading', max=625.0, style=ProgressStyle(description_…"
            ]
          },
          "metadata": {
            "tags": []
          }
        },
        {
          "output_type": "stream",
          "text": [
            "\n"
          ],
          "name": "stdout"
        },
        {
          "output_type": "display_data",
          "data": {
            "application/vnd.jupyter.widget-view+json": {
              "model_id": "10b3143905ba4dcb8c51b92467baa262",
              "version_minor": 0,
              "version_major": 2
            },
            "text/plain": [
              "HBox(children=(FloatProgress(value=0.0, description='Downloading', max=213450.0, style=ProgressStyle(descripti…"
            ]
          },
          "metadata": {
            "tags": []
          }
        },
        {
          "output_type": "stream",
          "text": [
            "\n"
          ],
          "name": "stdout"
        },
        {
          "output_type": "display_data",
          "data": {
            "application/vnd.jupyter.widget-view+json": {
              "model_id": "2acc0816717449e488e167841c2a754d",
              "version_minor": 0,
              "version_major": 2
            },
            "text/plain": [
              "HBox(children=(FloatProgress(value=0.0, description='Downloading', max=435797.0, style=ProgressStyle(descripti…"
            ]
          },
          "metadata": {
            "tags": []
          }
        },
        {
          "output_type": "stream",
          "text": [
            "\n"
          ],
          "name": "stdout"
        },
        {
          "output_type": "display_data",
          "data": {
            "application/vnd.jupyter.widget-view+json": {
              "model_id": "4adf4ec44ec342918dec5ca7a584d040",
              "version_minor": 0,
              "version_major": 2
            },
            "text/plain": [
              "HBox(children=(FloatProgress(value=0.0, description='Downloading', max=29.0, style=ProgressStyle(description_w…"
            ]
          },
          "metadata": {
            "tags": []
          }
        },
        {
          "output_type": "stream",
          "text": [
            "\n"
          ],
          "name": "stdout"
        },
        {
          "output_type": "display_data",
          "data": {
            "application/vnd.jupyter.widget-view+json": {
              "model_id": "d5a7f2eb75f24e31a19fac07640789c4",
              "version_minor": 0,
              "version_major": 2
            },
            "text/plain": [
              "HBox(children=(FloatProgress(value=0.0, description='Downloading', max=1338740706.0, style=ProgressStyle(descr…"
            ]
          },
          "metadata": {
            "tags": []
          }
        },
        {
          "output_type": "stream",
          "text": [
            "\n"
          ],
          "name": "stdout"
        }
      ]
    },
    {
      "cell_type": "code",
      "metadata": {
        "id": "8c_hT2CZy6i-"
      },
      "source": [
        "path = '/content/data/knowledge_embeddings'\n",
        "if not os.path.exists(path):\n",
        "    os.mkdir(path)"
      ],
      "execution_count": null,
      "outputs": []
    },
    {
      "cell_type": "code",
      "metadata": {
        "colab": {
          "base_uri": "https://localhost:8080/",
          "height": 1000
        },
        "id": "kt_9ONoaYm0-",
        "outputId": "bc6fdbf6-78e8-4f3f-e8e7-007ec310b0c2"
      },
      "source": [
        "# What are positively charged,  thus allowing the compaction of the negatively charged DNA?\n",
        "# what are positively charged thus allowing the compaction of the negatively charged dna\n",
        "# [CLS] what are positively charged thus allowing the compaction of the negatively charged dna [SEP]\n",
        "# ['[CLS]', 'what', 'are', 'positively', 'charged', 'thus', 'allowing', 'the', 'compact', '##ion', 'of', 'the', 'negatively', 'charged', 'd', '##na', '[SEP]']\n",
        "# [101, 1184, 1132, 14257, 4601, 2456, 3525, 1103, 10114, 1988, 1104, 1103, 21598, 4601, 173, 1605, 102]\n",
        "# [1, 1, 1, 1, 1, 1, 1, 1, 1, 1, 1, 1, 1, 1, 1, 1, 1]\n",
        "# tensor([[  101,  1184,  1132, 14257,  4601,  2456,  3525,  1103, 10114,  1988,  1104,  1103, 21598,  4601,   173,  1605,   102]])\n",
        "# tensor([[1, 1, 1, 1, 1, 1, 1, 1, 1, 1, 1, 1, 1, 1, 1, 1, 1]])\n",
        "\n",
        "\n",
        "for qa in data:\n",
        "  ques_id = qa['Question_Id']\n",
        "  ques = qa['Questions']    \n",
        "\n",
        "  # extract verbs and nouns from question\n",
        "  queries = ectract_query(ques)\n",
        "  # retrieve knowledge from knowledge base\n",
        "  # num: len(queries) * 5 \n",
        "  kns = knowledge_retrieval(queries)\n",
        "\n",
        "  kn_concat = '[CLS]'\n",
        "  for k in kns:\n",
        "    marked_text1 = ' ' + k + \" [SEP]\"\n",
        "    kn_concat += marked_text1   \n",
        "  tokenized_text1 = tokenizer.tokenize(kn_concat)[:-1]  \n",
        "  indexed_tokens1 = tokenizer.convert_tokens_to_ids(tokenized_text1)    \n",
        "  segments_ids1 = [1] * len(tokenized_text1)    \n",
        "  tokens_tensor1 = torch.tensor([indexed_tokens1])\n",
        "  segments_tensors1 = torch.tensor([segments_ids1])\n",
        "\n",
        "  # tuple - shape: 25 * (1,17,1024) - (batch size,sentence length,embedding size)\n",
        "  with torch.no_grad():\n",
        "      # Because we set 'output_hidden_states = True', the third item will be the\n",
        "      # hidden states from all layers.\n",
        "      outputs1 = model(tokens_tensor1, segments_tensors1)\n",
        "      hidden_states1 = outputs1[2]\n",
        "  # Concatenate the tensors for all layers.\n",
        "  # Use 'stack' to create a new dimension in the tensor.\n",
        "  # shape: (25,1,17,1024) - (layers,batch size,sentence length,embedding size)\n",
        "  token_embeddings1 = torch.stack(hidden_states1, dim=0)\n",
        "  # Remove dimension 1, the \"batches\".\n",
        "  # shape: (25,17,1024) - (layers,sentence length,embedding size)\n",
        "  token_embeddings1 = torch.squeeze(token_embeddings1, dim=1)\n",
        "  # Swap dimensions 0 and 1.（“layers” and “tokens” dimensions）\n",
        "  # shape: (17,25,1024) - (sentence length,layers,embedding size)\n",
        "  token_embeddings1 = token_embeddings1.permute(1, 0, 2)\n",
        "\n",
        "  token_vecs_sum1 = []\n",
        "\n",
        "  for token in token_embeddings1:\n",
        "      # Sum the vectors from the last four layers.\n",
        "      sum_vec1 = torch.sum(token[-4:], dim=0)\n",
        "      token_vecs_sum1.append(sum_vec1)\n",
        "  # shape: (17,1024)\n",
        "  token_vec = np.array([t.numpy() for t in token_vecs_sum1])\n",
        "  # kn_emds.append(token_vec)\n",
        "  # kn_emds = np.concatenate(kn_emds)\n",
        "  # Write .npy file to '/content/embedding/' folder.\n",
        "  np.save(os.path.join(path, str(ques_id)+'.npy'), token_vec)\n",
        "  print(\"saved file: \", ques_id)\n",
        "print(\"saved all\")\n",
        "\n",
        "# # validate saved features and calculate max length of all questions\n",
        "# max_len = 0\n",
        "# for pair in data:\n",
        "#     ques_id = pair['Question_Id']\n",
        "#     emb = np.load('../data/ques_embeddings/bert/'+str(ques_id)+'.npy')\n",
        "#     length = emb.shape[0]\n",
        "#     if length >= max_len:\n",
        "#         max_len = length\n",
        "#         print('current max length is', max_len)"
      ],
      "execution_count": null,
      "outputs": [
        {
          "output_type": "stream",
          "text": [
            "saved file:  1\n",
            "saved file:  2\n",
            "saved file:  3\n",
            "saved file:  4\n",
            "saved file:  5\n",
            "saved file:  6\n",
            "saved file:  7\n",
            "saved file:  8\n",
            "saved file:  9\n",
            "saved file:  10\n",
            "saved file:  11\n",
            "saved file:  12\n",
            "saved file:  13\n",
            "saved file:  14\n",
            "saved file:  15\n",
            "saved file:  16\n",
            "saved file:  17\n",
            "saved file:  18\n",
            "saved file:  19\n",
            "saved file:  20\n",
            "saved file:  21\n",
            "saved file:  22\n",
            "saved file:  23\n",
            "saved file:  24\n",
            "saved file:  25\n",
            "saved file:  26\n",
            "saved file:  27\n",
            "saved file:  28\n",
            "saved file:  29\n",
            "saved file:  30\n",
            "saved file:  31\n",
            "saved file:  32\n",
            "saved file:  33\n",
            "saved file:  34\n",
            "saved file:  35\n",
            "saved file:  36\n",
            "saved file:  37\n",
            "saved file:  38\n",
            "saved file:  39\n",
            "saved file:  40\n",
            "saved file:  41\n",
            "saved file:  42\n",
            "saved file:  43\n",
            "saved file:  44\n",
            "saved file:  45\n",
            "saved file:  46\n",
            "saved file:  47\n",
            "saved file:  48\n",
            "saved file:  49\n",
            "saved file:  50\n",
            "saved file:  51\n",
            "saved file:  52\n",
            "saved file:  53\n",
            "saved file:  54\n",
            "saved file:  55\n",
            "saved file:  56\n",
            "saved file:  57\n",
            "saved file:  58\n",
            "saved file:  59\n",
            "saved file:  60\n",
            "saved file:  61\n",
            "saved file:  62\n",
            "saved file:  63\n",
            "saved file:  64\n",
            "saved file:  65\n",
            "saved file:  66\n",
            "saved file:  67\n",
            "saved file:  68\n",
            "saved file:  69\n",
            "saved file:  70\n",
            "saved file:  71\n",
            "saved file:  72\n",
            "saved file:  73\n",
            "saved file:  74\n",
            "saved file:  75\n",
            "saved file:  76\n",
            "saved file:  77\n",
            "saved file:  78\n",
            "saved file:  79\n",
            "saved file:  80\n",
            "saved file:  81\n",
            "saved file:  82\n",
            "saved file:  83\n",
            "saved file:  84\n",
            "saved file:  85\n",
            "saved file:  86\n",
            "saved file:  87\n",
            "saved file:  88\n",
            "saved file:  89\n",
            "saved file:  90\n",
            "saved file:  91\n",
            "saved file:  92\n",
            "saved file:  93\n",
            "saved file:  94\n",
            "saved file:  95\n",
            "saved file:  96\n",
            "saved file:  97\n",
            "saved file:  98\n",
            "saved file:  99\n",
            "saved file:  100\n",
            "saved file:  101\n",
            "saved file:  102\n",
            "saved file:  103\n",
            "saved file:  104\n",
            "saved file:  105\n",
            "saved file:  106\n",
            "saved file:  107\n",
            "saved file:  108\n",
            "saved file:  109\n",
            "saved file:  110\n",
            "saved file:  111\n",
            "saved file:  112\n",
            "saved file:  113\n",
            "saved file:  114\n",
            "saved file:  115\n",
            "saved file:  116\n",
            "saved file:  117\n",
            "saved file:  118\n",
            "saved file:  119\n",
            "saved file:  120\n",
            "saved file:  121\n",
            "saved file:  122\n",
            "saved file:  123\n",
            "saved file:  124\n",
            "saved file:  125\n",
            "saved file:  126\n",
            "saved file:  127\n",
            "saved file:  128\n",
            "saved file:  129\n",
            "saved file:  130\n",
            "saved file:  131\n",
            "saved file:  132\n",
            "saved file:  133\n",
            "saved file:  134\n",
            "saved file:  135\n",
            "saved file:  136\n",
            "saved file:  137\n",
            "saved file:  138\n",
            "saved file:  139\n",
            "saved file:  140\n",
            "saved file:  141\n",
            "saved file:  142\n",
            "saved file:  143\n",
            "saved file:  144\n",
            "saved file:  145\n",
            "saved file:  146\n",
            "saved file:  147\n",
            "saved file:  148\n",
            "saved file:  149\n",
            "saved file:  150\n",
            "saved file:  151\n",
            "saved file:  152\n",
            "saved file:  153\n",
            "saved file:  154\n",
            "saved file:  155\n",
            "saved file:  156\n",
            "saved file:  157\n",
            "saved file:  158\n",
            "saved file:  159\n",
            "saved file:  160\n",
            "saved file:  161\n",
            "saved file:  162\n",
            "saved file:  163\n",
            "saved file:  164\n",
            "saved file:  165\n",
            "saved file:  166\n",
            "saved file:  167\n",
            "saved file:  168\n",
            "saved file:  169\n",
            "saved file:  170\n",
            "saved file:  171\n",
            "saved file:  172\n",
            "saved file:  173\n",
            "saved file:  174\n",
            "saved file:  175\n",
            "saved file:  176\n",
            "saved file:  177\n",
            "saved file:  178\n",
            "saved file:  179\n",
            "saved file:  180\n",
            "saved file:  181\n",
            "saved file:  182\n",
            "saved file:  183\n",
            "saved file:  184\n",
            "saved file:  185\n",
            "saved file:  186\n",
            "saved file:  187\n",
            "saved file:  188\n",
            "saved file:  189\n",
            "saved file:  190\n",
            "saved file:  191\n",
            "saved file:  192\n",
            "saved file:  193\n",
            "saved file:  194\n",
            "saved file:  195\n",
            "saved file:  196\n",
            "saved file:  197\n",
            "saved file:  198\n",
            "saved file:  199\n",
            "saved file:  200\n",
            "saved file:  201\n",
            "saved file:  202\n",
            "saved file:  203\n",
            "saved file:  204\n",
            "saved file:  205\n",
            "saved file:  206\n",
            "saved file:  207\n",
            "saved file:  208\n",
            "saved file:  209\n",
            "saved file:  210\n",
            "saved file:  211\n",
            "saved file:  212\n",
            "saved file:  213\n",
            "saved file:  214\n",
            "saved file:  215\n",
            "saved file:  216\n",
            "saved file:  217\n",
            "saved file:  218\n",
            "saved file:  219\n",
            "saved file:  220\n",
            "saved file:  221\n",
            "saved file:  222\n",
            "saved file:  223\n",
            "saved file:  224\n",
            "saved file:  225\n",
            "saved file:  226\n",
            "saved file:  227\n",
            "saved file:  228\n",
            "saved file:  229\n",
            "saved file:  230\n",
            "saved file:  231\n",
            "saved file:  232\n",
            "saved file:  233\n",
            "saved file:  234\n",
            "saved file:  235\n",
            "saved file:  236\n",
            "saved file:  237\n",
            "saved file:  238\n",
            "saved file:  239\n",
            "saved file:  240\n",
            "saved file:  241\n",
            "saved file:  242\n",
            "saved file:  243\n",
            "saved file:  244\n",
            "saved file:  245\n",
            "saved file:  246\n",
            "saved file:  247\n",
            "saved file:  248\n",
            "saved file:  249\n",
            "saved file:  250\n",
            "saved file:  251\n",
            "saved file:  252\n",
            "saved file:  253\n",
            "saved file:  254\n",
            "saved file:  255\n",
            "saved file:  256\n",
            "saved file:  257\n",
            "saved file:  258\n",
            "saved file:  259\n",
            "saved file:  260\n",
            "saved file:  261\n",
            "saved file:  262\n",
            "saved file:  263\n",
            "saved file:  264\n",
            "saved file:  265\n",
            "saved file:  266\n",
            "saved file:  267\n",
            "saved file:  268\n",
            "saved file:  269\n",
            "saved file:  270\n",
            "saved file:  271\n",
            "saved file:  272\n",
            "saved file:  273\n",
            "saved file:  274\n",
            "saved file:  275\n",
            "saved file:  276\n",
            "saved file:  277\n",
            "saved file:  278\n",
            "saved file:  279\n",
            "saved file:  280\n",
            "saved file:  281\n",
            "saved file:  282\n",
            "saved file:  283\n",
            "saved file:  284\n",
            "saved file:  285\n",
            "saved file:  286\n",
            "saved file:  287\n",
            "saved file:  288\n",
            "saved file:  289\n",
            "saved file:  290\n",
            "saved file:  291\n",
            "saved file:  292\n",
            "saved file:  293\n",
            "saved file:  294\n",
            "saved file:  295\n",
            "saved file:  296\n",
            "saved file:  297\n",
            "saved file:  298\n",
            "saved file:  299\n",
            "saved file:  300\n",
            "saved file:  301\n",
            "saved file:  302\n",
            "saved file:  303\n",
            "saved file:  304\n",
            "saved file:  305\n",
            "saved file:  306\n",
            "saved file:  307\n",
            "saved file:  308\n",
            "saved file:  309\n",
            "saved file:  310\n",
            "saved file:  311\n",
            "saved file:  312\n",
            "saved file:  313\n",
            "saved file:  314\n",
            "saved file:  315\n",
            "saved file:  316\n",
            "saved file:  317\n",
            "saved file:  318\n",
            "saved file:  319\n",
            "saved file:  320\n",
            "saved file:  321\n",
            "saved file:  322\n",
            "saved file:  323\n",
            "saved file:  324\n",
            "saved file:  325\n",
            "saved file:  326\n",
            "saved file:  327\n",
            "saved file:  328\n",
            "saved file:  329\n",
            "saved file:  330\n",
            "saved file:  331\n",
            "saved file:  332\n",
            "saved file:  333\n",
            "saved file:  334\n",
            "saved file:  335\n",
            "saved file:  336\n",
            "saved file:  337\n",
            "saved file:  338\n",
            "saved file:  339\n",
            "saved file:  340\n",
            "saved file:  341\n",
            "saved file:  342\n",
            "saved file:  343\n",
            "saved file:  344\n",
            "saved file:  345\n",
            "saved file:  346\n",
            "saved file:  347\n",
            "saved file:  348\n",
            "saved file:  349\n",
            "saved file:  350\n",
            "saved file:  351\n",
            "saved file:  352\n",
            "saved file:  353\n",
            "saved file:  354\n",
            "saved file:  355\n",
            "saved file:  356\n",
            "saved file:  357\n",
            "saved file:  358\n",
            "saved file:  359\n",
            "saved file:  360\n",
            "saved file:  361\n",
            "saved file:  362\n",
            "saved file:  363\n",
            "saved file:  364\n",
            "saved file:  365\n",
            "saved file:  366\n",
            "saved file:  367\n",
            "saved file:  368\n",
            "saved file:  369\n",
            "saved file:  370\n",
            "saved file:  371\n",
            "saved file:  372\n",
            "saved file:  373\n",
            "saved file:  374\n",
            "saved file:  375\n",
            "saved file:  376\n",
            "saved file:  377\n",
            "saved file:  378\n",
            "saved file:  379\n",
            "saved file:  380\n",
            "saved file:  381\n",
            "saved file:  382\n",
            "saved file:  383\n",
            "saved file:  384\n",
            "saved file:  385\n",
            "saved file:  386\n",
            "saved file:  387\n",
            "saved file:  388\n",
            "saved file:  389\n",
            "saved file:  390\n",
            "saved file:  391\n",
            "saved file:  392\n",
            "saved file:  393\n",
            "saved file:  394\n",
            "saved file:  395\n",
            "saved file:  396\n",
            "saved file:  397\n",
            "saved file:  398\n",
            "saved file:  399\n",
            "saved file:  400\n",
            "saved file:  401\n",
            "saved file:  402\n",
            "saved file:  403\n",
            "saved file:  404\n",
            "saved file:  405\n",
            "saved file:  406\n",
            "saved file:  407\n",
            "saved file:  408\n",
            "saved file:  409\n",
            "saved file:  410\n",
            "saved file:  411\n",
            "saved file:  412\n",
            "saved file:  413\n",
            "saved file:  414\n",
            "saved file:  415\n",
            "saved file:  416\n",
            "saved file:  417\n",
            "saved file:  418\n",
            "saved file:  419\n",
            "saved file:  420\n",
            "saved file:  421\n",
            "saved file:  422\n",
            "saved file:  423\n",
            "saved file:  424\n",
            "saved file:  425\n",
            "saved file:  426\n",
            "saved file:  427\n",
            "saved file:  428\n",
            "saved file:  429\n",
            "saved file:  430\n",
            "saved file:  431\n",
            "saved file:  432\n",
            "saved file:  433\n",
            "saved file:  434\n",
            "saved file:  435\n",
            "saved file:  436\n",
            "saved file:  437\n",
            "saved file:  438\n",
            "saved file:  439\n",
            "saved file:  440\n",
            "saved file:  441\n",
            "saved file:  442\n",
            "saved file:  443\n",
            "saved file:  444\n",
            "saved file:  445\n",
            "saved file:  446\n",
            "saved file:  447\n",
            "saved file:  448\n",
            "saved file:  449\n",
            "saved file:  450\n",
            "saved file:  451\n",
            "saved file:  452\n",
            "saved file:  453\n",
            "saved file:  454\n",
            "saved file:  455\n",
            "saved file:  456\n",
            "saved file:  457\n",
            "saved file:  458\n",
            "saved file:  459\n",
            "saved file:  460\n",
            "saved file:  461\n",
            "saved file:  462\n",
            "saved file:  463\n",
            "saved file:  464\n",
            "saved file:  465\n",
            "saved file:  466\n",
            "saved file:  467\n",
            "saved file:  468\n",
            "saved file:  469\n",
            "saved file:  470\n",
            "saved file:  471\n",
            "saved file:  472\n",
            "saved file:  473\n",
            "saved file:  474\n",
            "saved file:  475\n",
            "saved file:  476\n",
            "saved file:  477\n",
            "saved file:  478\n",
            "saved file:  479\n",
            "saved file:  480\n",
            "saved file:  481\n",
            "saved file:  482\n",
            "saved file:  483\n",
            "saved file:  484\n",
            "saved file:  485\n",
            "saved file:  486\n",
            "saved file:  487\n",
            "saved file:  488\n",
            "saved file:  489\n",
            "saved file:  490\n",
            "saved file:  491\n",
            "saved file:  492\n",
            "saved file:  493\n",
            "saved file:  494\n",
            "saved file:  495\n",
            "saved file:  496\n",
            "saved file:  497\n",
            "saved file:  498\n",
            "saved file:  499\n",
            "saved file:  500\n",
            "saved file:  501\n",
            "saved file:  502\n",
            "saved file:  503\n",
            "saved file:  504\n",
            "saved file:  505\n",
            "saved file:  506\n",
            "saved file:  507\n",
            "saved file:  508\n",
            "saved file:  509\n",
            "saved file:  510\n",
            "saved file:  511\n",
            "saved file:  512\n",
            "saved file:  513\n",
            "saved file:  514\n",
            "saved file:  515\n",
            "saved file:  516\n",
            "saved file:  517\n",
            "saved file:  518\n",
            "saved file:  519\n",
            "saved file:  520\n",
            "saved file:  521\n",
            "saved file:  522\n",
            "saved file:  523\n",
            "saved file:  524\n",
            "saved file:  525\n",
            "saved file:  526\n",
            "saved file:  527\n",
            "saved file:  528\n",
            "saved file:  529\n",
            "saved file:  530\n",
            "saved file:  531\n",
            "saved file:  532\n",
            "saved file:  533\n",
            "saved file:  534\n",
            "saved file:  535\n",
            "saved file:  536\n",
            "saved file:  537\n",
            "saved file:  538\n",
            "saved file:  539\n",
            "saved file:  540\n",
            "saved file:  541\n",
            "saved file:  542\n",
            "saved file:  543\n",
            "saved file:  544\n",
            "saved file:  545\n",
            "saved file:  546\n",
            "saved file:  547\n",
            "saved file:  548\n",
            "saved file:  549\n",
            "saved file:  550\n",
            "saved file:  551\n",
            "saved file:  552\n",
            "saved file:  553\n",
            "saved file:  554\n",
            "saved file:  555\n",
            "saved file:  556\n",
            "saved file:  557\n",
            "saved file:  558\n",
            "saved file:  559\n",
            "saved file:  560\n",
            "saved file:  561\n",
            "saved file:  562\n",
            "saved file:  563\n",
            "saved file:  564\n",
            "saved file:  565\n",
            "saved file:  566\n",
            "saved file:  567\n",
            "saved file:  568\n",
            "saved file:  569\n",
            "saved file:  570\n",
            "saved file:  571\n",
            "saved file:  572\n",
            "saved file:  573\n",
            "saved file:  574\n",
            "saved file:  575\n",
            "saved file:  576\n",
            "saved file:  577\n",
            "saved file:  578\n",
            "saved file:  579\n",
            "saved file:  580\n",
            "saved file:  581\n",
            "saved file:  582\n",
            "saved file:  583\n",
            "saved file:  584\n"
          ],
          "name": "stdout"
        },
        {
          "output_type": "error",
          "ename": "RuntimeError",
          "evalue": "ignored",
          "traceback": [
            "\u001b[0;31m---------------------------------------------------------------------------\u001b[0m",
            "\u001b[0;31mRuntimeError\u001b[0m                              Traceback (most recent call last)",
            "\u001b[0;32m<ipython-input-81-6b18e286c3a7>\u001b[0m in \u001b[0;36m<module>\u001b[0;34m()\u001b[0m\n\u001b[1;32m     33\u001b[0m       \u001b[0;31m# Because we set 'output_hidden_states = True', the third item will be the\u001b[0m\u001b[0;34m\u001b[0m\u001b[0;34m\u001b[0m\u001b[0;34m\u001b[0m\u001b[0m\n\u001b[1;32m     34\u001b[0m       \u001b[0;31m# hidden states from all layers.\u001b[0m\u001b[0;34m\u001b[0m\u001b[0;34m\u001b[0m\u001b[0;34m\u001b[0m\u001b[0m\n\u001b[0;32m---> 35\u001b[0;31m       \u001b[0moutputs1\u001b[0m \u001b[0;34m=\u001b[0m \u001b[0mmodel\u001b[0m\u001b[0;34m(\u001b[0m\u001b[0mtokens_tensor1\u001b[0m\u001b[0;34m,\u001b[0m \u001b[0msegments_tensors1\u001b[0m\u001b[0;34m)\u001b[0m\u001b[0;34m\u001b[0m\u001b[0;34m\u001b[0m\u001b[0m\n\u001b[0m\u001b[1;32m     36\u001b[0m       \u001b[0mhidden_states1\u001b[0m \u001b[0;34m=\u001b[0m \u001b[0moutputs1\u001b[0m\u001b[0;34m[\u001b[0m\u001b[0;36m2\u001b[0m\u001b[0;34m]\u001b[0m\u001b[0;34m\u001b[0m\u001b[0;34m\u001b[0m\u001b[0m\n\u001b[1;32m     37\u001b[0m   \u001b[0;31m# Concatenate the tensors for all layers.\u001b[0m\u001b[0;34m\u001b[0m\u001b[0;34m\u001b[0m\u001b[0;34m\u001b[0m\u001b[0m\n",
            "\u001b[0;32m/usr/local/lib/python3.7/dist-packages/torch/nn/modules/module.py\u001b[0m in \u001b[0;36m_call_impl\u001b[0;34m(self, *input, **kwargs)\u001b[0m\n\u001b[1;32m    887\u001b[0m             \u001b[0mresult\u001b[0m \u001b[0;34m=\u001b[0m \u001b[0mself\u001b[0m\u001b[0;34m.\u001b[0m\u001b[0m_slow_forward\u001b[0m\u001b[0;34m(\u001b[0m\u001b[0;34m*\u001b[0m\u001b[0minput\u001b[0m\u001b[0;34m,\u001b[0m \u001b[0;34m**\u001b[0m\u001b[0mkwargs\u001b[0m\u001b[0;34m)\u001b[0m\u001b[0;34m\u001b[0m\u001b[0;34m\u001b[0m\u001b[0m\n\u001b[1;32m    888\u001b[0m         \u001b[0;32melse\u001b[0m\u001b[0;34m:\u001b[0m\u001b[0;34m\u001b[0m\u001b[0;34m\u001b[0m\u001b[0m\n\u001b[0;32m--> 889\u001b[0;31m             \u001b[0mresult\u001b[0m \u001b[0;34m=\u001b[0m \u001b[0mself\u001b[0m\u001b[0;34m.\u001b[0m\u001b[0mforward\u001b[0m\u001b[0;34m(\u001b[0m\u001b[0;34m*\u001b[0m\u001b[0minput\u001b[0m\u001b[0;34m,\u001b[0m \u001b[0;34m**\u001b[0m\u001b[0mkwargs\u001b[0m\u001b[0;34m)\u001b[0m\u001b[0;34m\u001b[0m\u001b[0;34m\u001b[0m\u001b[0m\n\u001b[0m\u001b[1;32m    890\u001b[0m         for hook in itertools.chain(\n\u001b[1;32m    891\u001b[0m                 \u001b[0m_global_forward_hooks\u001b[0m\u001b[0;34m.\u001b[0m\u001b[0mvalues\u001b[0m\u001b[0;34m(\u001b[0m\u001b[0;34m)\u001b[0m\u001b[0;34m,\u001b[0m\u001b[0;34m\u001b[0m\u001b[0;34m\u001b[0m\u001b[0m\n",
            "\u001b[0;32m/usr/local/lib/python3.7/dist-packages/transformers/models/bert/modeling_bert.py\u001b[0m in \u001b[0;36mforward\u001b[0;34m(self, input_ids, attention_mask, token_type_ids, position_ids, head_mask, inputs_embeds, encoder_hidden_states, encoder_attention_mask, past_key_values, use_cache, output_attentions, output_hidden_states, return_dict)\u001b[0m\n\u001b[1;32m    967\u001b[0m             \u001b[0mtoken_type_ids\u001b[0m\u001b[0;34m=\u001b[0m\u001b[0mtoken_type_ids\u001b[0m\u001b[0;34m,\u001b[0m\u001b[0;34m\u001b[0m\u001b[0;34m\u001b[0m\u001b[0m\n\u001b[1;32m    968\u001b[0m             \u001b[0minputs_embeds\u001b[0m\u001b[0;34m=\u001b[0m\u001b[0minputs_embeds\u001b[0m\u001b[0;34m,\u001b[0m\u001b[0;34m\u001b[0m\u001b[0;34m\u001b[0m\u001b[0m\n\u001b[0;32m--> 969\u001b[0;31m             \u001b[0mpast_key_values_length\u001b[0m\u001b[0;34m=\u001b[0m\u001b[0mpast_key_values_length\u001b[0m\u001b[0;34m,\u001b[0m\u001b[0;34m\u001b[0m\u001b[0;34m\u001b[0m\u001b[0m\n\u001b[0m\u001b[1;32m    970\u001b[0m         )\n\u001b[1;32m    971\u001b[0m         encoder_outputs = self.encoder(\n",
            "\u001b[0;32m/usr/local/lib/python3.7/dist-packages/torch/nn/modules/module.py\u001b[0m in \u001b[0;36m_call_impl\u001b[0;34m(self, *input, **kwargs)\u001b[0m\n\u001b[1;32m    887\u001b[0m             \u001b[0mresult\u001b[0m \u001b[0;34m=\u001b[0m \u001b[0mself\u001b[0m\u001b[0;34m.\u001b[0m\u001b[0m_slow_forward\u001b[0m\u001b[0;34m(\u001b[0m\u001b[0;34m*\u001b[0m\u001b[0minput\u001b[0m\u001b[0;34m,\u001b[0m \u001b[0;34m**\u001b[0m\u001b[0mkwargs\u001b[0m\u001b[0;34m)\u001b[0m\u001b[0;34m\u001b[0m\u001b[0;34m\u001b[0m\u001b[0m\n\u001b[1;32m    888\u001b[0m         \u001b[0;32melse\u001b[0m\u001b[0;34m:\u001b[0m\u001b[0;34m\u001b[0m\u001b[0;34m\u001b[0m\u001b[0m\n\u001b[0;32m--> 889\u001b[0;31m             \u001b[0mresult\u001b[0m \u001b[0;34m=\u001b[0m \u001b[0mself\u001b[0m\u001b[0;34m.\u001b[0m\u001b[0mforward\u001b[0m\u001b[0;34m(\u001b[0m\u001b[0;34m*\u001b[0m\u001b[0minput\u001b[0m\u001b[0;34m,\u001b[0m \u001b[0;34m**\u001b[0m\u001b[0mkwargs\u001b[0m\u001b[0;34m)\u001b[0m\u001b[0;34m\u001b[0m\u001b[0;34m\u001b[0m\u001b[0m\n\u001b[0m\u001b[1;32m    890\u001b[0m         for hook in itertools.chain(\n\u001b[1;32m    891\u001b[0m                 \u001b[0m_global_forward_hooks\u001b[0m\u001b[0;34m.\u001b[0m\u001b[0mvalues\u001b[0m\u001b[0;34m(\u001b[0m\u001b[0;34m)\u001b[0m\u001b[0;34m,\u001b[0m\u001b[0;34m\u001b[0m\u001b[0;34m\u001b[0m\u001b[0m\n",
            "\u001b[0;32m/usr/local/lib/python3.7/dist-packages/transformers/models/bert/modeling_bert.py\u001b[0m in \u001b[0;36mforward\u001b[0;34m(self, input_ids, token_type_ids, position_ids, inputs_embeds, past_key_values_length)\u001b[0m\n\u001b[1;32m    199\u001b[0m \u001b[0;34m\u001b[0m\u001b[0m\n\u001b[1;32m    200\u001b[0m         \u001b[0;32mif\u001b[0m \u001b[0minputs_embeds\u001b[0m \u001b[0;32mis\u001b[0m \u001b[0;32mNone\u001b[0m\u001b[0;34m:\u001b[0m\u001b[0;34m\u001b[0m\u001b[0;34m\u001b[0m\u001b[0m\n\u001b[0;32m--> 201\u001b[0;31m             \u001b[0minputs_embeds\u001b[0m \u001b[0;34m=\u001b[0m \u001b[0mself\u001b[0m\u001b[0;34m.\u001b[0m\u001b[0mword_embeddings\u001b[0m\u001b[0;34m(\u001b[0m\u001b[0minput_ids\u001b[0m\u001b[0;34m)\u001b[0m\u001b[0;34m\u001b[0m\u001b[0;34m\u001b[0m\u001b[0m\n\u001b[0m\u001b[1;32m    202\u001b[0m         \u001b[0mtoken_type_embeddings\u001b[0m \u001b[0;34m=\u001b[0m \u001b[0mself\u001b[0m\u001b[0;34m.\u001b[0m\u001b[0mtoken_type_embeddings\u001b[0m\u001b[0;34m(\u001b[0m\u001b[0mtoken_type_ids\u001b[0m\u001b[0;34m)\u001b[0m\u001b[0;34m\u001b[0m\u001b[0;34m\u001b[0m\u001b[0m\n\u001b[1;32m    203\u001b[0m \u001b[0;34m\u001b[0m\u001b[0m\n",
            "\u001b[0;32m/usr/local/lib/python3.7/dist-packages/torch/nn/modules/module.py\u001b[0m in \u001b[0;36m_call_impl\u001b[0;34m(self, *input, **kwargs)\u001b[0m\n\u001b[1;32m    887\u001b[0m             \u001b[0mresult\u001b[0m \u001b[0;34m=\u001b[0m \u001b[0mself\u001b[0m\u001b[0;34m.\u001b[0m\u001b[0m_slow_forward\u001b[0m\u001b[0;34m(\u001b[0m\u001b[0;34m*\u001b[0m\u001b[0minput\u001b[0m\u001b[0;34m,\u001b[0m \u001b[0;34m**\u001b[0m\u001b[0mkwargs\u001b[0m\u001b[0;34m)\u001b[0m\u001b[0;34m\u001b[0m\u001b[0;34m\u001b[0m\u001b[0m\n\u001b[1;32m    888\u001b[0m         \u001b[0;32melse\u001b[0m\u001b[0;34m:\u001b[0m\u001b[0;34m\u001b[0m\u001b[0;34m\u001b[0m\u001b[0m\n\u001b[0;32m--> 889\u001b[0;31m             \u001b[0mresult\u001b[0m \u001b[0;34m=\u001b[0m \u001b[0mself\u001b[0m\u001b[0;34m.\u001b[0m\u001b[0mforward\u001b[0m\u001b[0;34m(\u001b[0m\u001b[0;34m*\u001b[0m\u001b[0minput\u001b[0m\u001b[0;34m,\u001b[0m \u001b[0;34m**\u001b[0m\u001b[0mkwargs\u001b[0m\u001b[0;34m)\u001b[0m\u001b[0;34m\u001b[0m\u001b[0;34m\u001b[0m\u001b[0m\n\u001b[0m\u001b[1;32m    890\u001b[0m         for hook in itertools.chain(\n\u001b[1;32m    891\u001b[0m                 \u001b[0m_global_forward_hooks\u001b[0m\u001b[0;34m.\u001b[0m\u001b[0mvalues\u001b[0m\u001b[0;34m(\u001b[0m\u001b[0;34m)\u001b[0m\u001b[0;34m,\u001b[0m\u001b[0;34m\u001b[0m\u001b[0;34m\u001b[0m\u001b[0m\n",
            "\u001b[0;32m/usr/local/lib/python3.7/dist-packages/torch/nn/modules/sparse.py\u001b[0m in \u001b[0;36mforward\u001b[0;34m(self, input)\u001b[0m\n\u001b[1;32m    156\u001b[0m         return F.embedding(\n\u001b[1;32m    157\u001b[0m             \u001b[0minput\u001b[0m\u001b[0;34m,\u001b[0m \u001b[0mself\u001b[0m\u001b[0;34m.\u001b[0m\u001b[0mweight\u001b[0m\u001b[0;34m,\u001b[0m \u001b[0mself\u001b[0m\u001b[0;34m.\u001b[0m\u001b[0mpadding_idx\u001b[0m\u001b[0;34m,\u001b[0m \u001b[0mself\u001b[0m\u001b[0;34m.\u001b[0m\u001b[0mmax_norm\u001b[0m\u001b[0;34m,\u001b[0m\u001b[0;34m\u001b[0m\u001b[0;34m\u001b[0m\u001b[0m\n\u001b[0;32m--> 158\u001b[0;31m             self.norm_type, self.scale_grad_by_freq, self.sparse)\n\u001b[0m\u001b[1;32m    159\u001b[0m \u001b[0;34m\u001b[0m\u001b[0m\n\u001b[1;32m    160\u001b[0m     \u001b[0;32mdef\u001b[0m \u001b[0mextra_repr\u001b[0m\u001b[0;34m(\u001b[0m\u001b[0mself\u001b[0m\u001b[0;34m)\u001b[0m \u001b[0;34m->\u001b[0m \u001b[0mstr\u001b[0m\u001b[0;34m:\u001b[0m\u001b[0;34m\u001b[0m\u001b[0;34m\u001b[0m\u001b[0m\n",
            "\u001b[0;32m/usr/local/lib/python3.7/dist-packages/torch/nn/functional.py\u001b[0m in \u001b[0;36membedding\u001b[0;34m(input, weight, padding_idx, max_norm, norm_type, scale_grad_by_freq, sparse)\u001b[0m\n\u001b[1;32m   1914\u001b[0m         \u001b[0;31m# remove once script supports set_grad_enabled\u001b[0m\u001b[0;34m\u001b[0m\u001b[0;34m\u001b[0m\u001b[0;34m\u001b[0m\u001b[0m\n\u001b[1;32m   1915\u001b[0m         \u001b[0m_no_grad_embedding_renorm_\u001b[0m\u001b[0;34m(\u001b[0m\u001b[0mweight\u001b[0m\u001b[0;34m,\u001b[0m \u001b[0minput\u001b[0m\u001b[0;34m,\u001b[0m \u001b[0mmax_norm\u001b[0m\u001b[0;34m,\u001b[0m \u001b[0mnorm_type\u001b[0m\u001b[0;34m)\u001b[0m\u001b[0;34m\u001b[0m\u001b[0;34m\u001b[0m\u001b[0m\n\u001b[0;32m-> 1916\u001b[0;31m     \u001b[0;32mreturn\u001b[0m \u001b[0mtorch\u001b[0m\u001b[0;34m.\u001b[0m\u001b[0membedding\u001b[0m\u001b[0;34m(\u001b[0m\u001b[0mweight\u001b[0m\u001b[0;34m,\u001b[0m \u001b[0minput\u001b[0m\u001b[0;34m,\u001b[0m \u001b[0mpadding_idx\u001b[0m\u001b[0;34m,\u001b[0m \u001b[0mscale_grad_by_freq\u001b[0m\u001b[0;34m,\u001b[0m \u001b[0msparse\u001b[0m\u001b[0;34m)\u001b[0m\u001b[0;34m\u001b[0m\u001b[0;34m\u001b[0m\u001b[0m\n\u001b[0m\u001b[1;32m   1917\u001b[0m \u001b[0;34m\u001b[0m\u001b[0m\n\u001b[1;32m   1918\u001b[0m \u001b[0;34m\u001b[0m\u001b[0m\n",
            "\u001b[0;31mRuntimeError\u001b[0m: Expected tensor for argument #1 'indices' to have one of the following scalar types: Long, Int; but got torch.FloatTensor instead (while checking arguments for embedding)"
          ]
        }
      ]
    },
    {
      "cell_type": "code",
      "metadata": {
        "colab": {
          "base_uri": "https://localhost:8080/"
        },
        "id": "rlpYIPVolVGL",
        "outputId": "8e1570a6-82fe-4cab-8c1e-676b2c681ac0"
      },
      "source": [
        "# validate saved features and calculate max length of all questions\n",
        "for pair in data:\n",
        "  try:\n",
        "    ques_id = pair['Question_Id']\n",
        "    emb = np.load('/content/data/knowledge_embeddings/'+str(ques_id)+'.npy')\n",
        "    # length = emb.shape[0]\n",
        "    print(ques_id,'shape is', emb.shape, emb[1])        \n",
        "  except:\n",
        "    None"
      ],
      "execution_count": null,
      "outputs": [
        {
          "output_type": "stream",
          "text": [
            "1 shape is (147, 1024) [ 2.0104558  -2.9711552  -2.076493   ... -0.87561285  1.5736442\n",
            "  0.29449445]\n",
            "2 shape is (112, 1024) [-1.3510771  -2.7878842  -0.26454362 ... -0.5927262   1.5895883\n",
            "  2.508337  ]\n",
            "3 shape is (234, 1024) [-1.3147087  -2.2564392  -0.45575547 ... -0.46712095  1.1960553\n",
            "  2.5312965 ]\n",
            "4 shape is (108, 1024) [ 2.2483888  -2.304226   -3.959382   ...  0.5228845   2.0124369\n",
            "  0.39888477]\n",
            "5 shape is (62, 1024) [ 1.3404918  -5.0190053  -0.80455905 ... -3.39945     1.167823\n",
            "  1.1446658 ]\n",
            "6 shape is (162, 1024) [ 0.6510856 -4.0878735 -0.8470171 ... -2.9745445  1.0813475  0.2658643]\n",
            "7 shape is (193, 1024) [ 0.74279773 -4.3296885  -1.016265   ... -3.0224192   1.2225933\n",
            "  0.3418101 ]\n",
            "8 shape is (30, 1024) [-1.5323267 -3.1610942 -2.7585902 ... -3.5711322 -1.1927916  0.8481272]\n",
            "9 shape is (186, 1024) [-0.62647927 -4.551471   -1.1530848  ... -1.5236076   1.7725874\n",
            "  0.7414978 ]\n",
            "10 shape is (111, 1024) [-0.1810945 -3.944694  -1.4811113 ... -1.2566606  1.9807792  0.5730399]\n",
            "11 shape is (187, 1024) [ 0.20924655  0.75475365 -1.5111187  ... -1.6013186   2.133827\n",
            "  0.5999344 ]\n",
            "12 shape is (137, 1024) [-1.0800679  -3.6749778  -3.0034747  ... -1.4323477   1.4928881\n",
            " -0.50697356]\n",
            "13 shape is (212, 1024) [-0.91839373 -3.628715   -2.648458   ... -1.7542665   1.2856902\n",
            " -0.20422249]\n",
            "14 shape is (173, 1024) [-0.74124724 -3.2670174  -2.5604928  ... -1.5973437   0.73420405\n",
            " -0.2422428 ]\n",
            "15 shape is (234, 1024) [ 0.21482101 -3.0022793  -0.7482729  ...  0.5526599   2.3694031\n",
            "  0.6499654 ]\n",
            "16 shape is (50, 1024) [-1.9389294  -2.845096   -1.6188804  ... -3.0859144   1.6154525\n",
            " -0.92467177]\n",
            "17 shape is (311, 1024) [-1.0429344 -2.8240068 -3.3453898 ... -2.3348813  1.1086571 -0.9476326]\n",
            "18 shape is (293, 1024) [ 2.2294714  -0.23656869 -1.6298712  ... -0.19393641  1.0853794\n",
            "  0.43799913]\n",
            "19 shape is (123, 1024) [ 0.7930257  -1.3870126  -2.5290406  ... -4.5292845   0.3559668\n",
            " -0.48566252]\n",
            "20 shape is (120, 1024) [ 0.6709657  -3.2959023  -1.7301937  ...  0.10249853  2.1055372\n",
            " -0.41533476]\n"
          ],
          "name": "stdout"
        }
      ]
    },
    {
      "cell_type": "markdown",
      "metadata": {
        "id": "7L71-fnWYeoC"
      },
      "source": [
        "## BERT embeddings"
      ]
    },
    {
      "cell_type": "code",
      "metadata": {
        "colab": {
          "base_uri": "https://localhost:8080/"
        },
        "id": "Ll17UQ_vPhFN",
        "outputId": "0c8612d1-719f-4a06-a723-1a58a025b130"
      },
      "source": [
        "for qa in data:\n",
        "    ques_id = qa['Question_Id']\n",
        "    # What are positively charged,  thus allowing the compaction of the negatively charged DNA?\n",
        "    ques = qa['Questions']\n",
        "    # what are positively charged thus allowing the compaction of the negatively charged dna\n",
        "    after = preprocess_sentence(ques)\n",
        "  \n",
        "    # [CLS] what are positively charged thus allowing the compaction of the negatively charged dna [SEP]\n",
        "    marked_text1 = \"[CLS] \" + after + \" [SEP]\"\n",
        "    # ['[CLS]', 'what', 'are', 'positively', 'charged', 'thus', 'allowing', 'the', 'compact', '##ion', 'of', 'the', 'negatively', 'charged', 'd', '##na', '[SEP]']\n",
        "    tokenized_text1 = tokenizer.tokenize(marked_text1)\n",
        "    # [101, 1184, 1132, 14257, 4601, 2456, 3525, 1103, 10114, 1988, 1104, 1103, 21598, 4601, 173, 1605, 102]\n",
        "    indexed_tokens1 = tokenizer.convert_tokens_to_ids(tokenized_text1)\n",
        "    # [1, 1, 1, 1, 1, 1, 1, 1, 1, 1, 1, 1, 1, 1, 1, 1, 1]\n",
        "    segments_ids1 = [1] * len(tokenized_text1)\n",
        "    # tensor([[  101,  1184,  1132, 14257,  4601,  2456,  3525,  1103, 10114,  1988,  1104,  1103, 21598,  4601,   173,  1605,   102]])\n",
        "    tokens_tensor1 = torch.tensor([indexed_tokens1])\n",
        "    # tensor([[1, 1, 1, 1, 1, 1, 1, 1, 1, 1, 1, 1, 1, 1, 1, 1, 1]])\n",
        "    segments_tensors1 = torch.tensor([segments_ids1])\n",
        "\n",
        "    # tuple - shape: 25 * (1,17,1024) - (batch size,sentence length,embedding size)\n",
        "    with torch.no_grad():\n",
        "        # Because we set 'output_hidden_states = True', the third item will be the\n",
        "        # hidden states from all layers.\n",
        "        outputs1 = model(tokens_tensor1, segments_tensors1)\n",
        "        hidden_states1 = outputs1[2]\n",
        "    # Concatenate the tensors for all layers.\n",
        "    # Use 'stack' to create a new dimension in the tensor.\n",
        "    # shape: (25,1,17,1024) - (layers,batch size,sentence length,embedding size)\n",
        "    token_embeddings1 = torch.stack(hidden_states1, dim=0)\n",
        "    # Remove dimension 1, the \"batches\".\n",
        "    # shape: (25,17,1024) - (layers,sentence length,embedding size)\n",
        "    token_embeddings1 = torch.squeeze(token_embeddings1, dim=1)\n",
        "    # Swap dimensions 0 and 1.（“layers” and “tokens” dimensions）\n",
        "    # shape: (17,25,1024) - (sentence length,layers,embedding size)\n",
        "    token_embeddings1 = token_embeddings1.permute(1, 0, 2)\n",
        "\n",
        "    token_vecs_sum1 = []\n",
        "\n",
        "    for token in token_embeddings1:\n",
        "        # Sum the vectors from the last four layers.\n",
        "        sum_vec1 = torch.sum(token[-4:], dim=0)\n",
        "        token_vecs_sum1.append(sum_vec1)\n",
        "    # shape: (17,1024)\n",
        "    token_vec = np.array([t.numpy() for t in token_vecs_sum1])\n",
        "\n",
        "    \n",
        "#     # Write .npy file to '/content/embedding/' folder.\n",
        "#     np.save(os.path.join(path, str(ques_id)+'.npy'), token_vec)\n",
        "#     print(\"saved file: \", ques_id)\n",
        "# # print(\"saved all\")\n",
        "\n",
        "# # validate saved features and calculate max length of all questions\n",
        "# max_len = 0\n",
        "# for pair in data:\n",
        "#     ques_id = pair['Question_Id']\n",
        "#     emb = np.load('../data/ques_embeddings/bert/'+str(ques_id)+'.npy')\n",
        "#     length = emb.shape[0]\n",
        "#     if length >= max_len:\n",
        "#         max_len = length\n",
        "#         print('current max length is', max_len)\n",
        "    break"
      ],
      "execution_count": null,
      "outputs": [
        {
          "output_type": "stream",
          "text": [
            "(17, 1024)\n"
          ],
          "name": "stdout"
        }
      ]
    },
    {
      "cell_type": "markdown",
      "metadata": {
        "id": "jCsnsvUm6DrQ"
      },
      "source": [
        "# Knowledge"
      ]
    },
    {
      "cell_type": "markdown",
      "metadata": {
        "id": "SFUgc0eeNlO7"
      },
      "source": [
        "## SenticNet"
      ]
    },
    {
      "cell_type": "code",
      "metadata": {
        "colab": {
          "base_uri": "https://localhost:8080/"
        },
        "id": "bPEruxbu6HUJ",
        "outputId": "ba9bda09-bf2f-4504-9078-55d4678565b7"
      },
      "source": [
        "pip install senticnet"
      ],
      "execution_count": null,
      "outputs": [
        {
          "output_type": "stream",
          "text": [
            "Collecting senticnet\n",
            "\u001b[?25l  Downloading https://files.pythonhosted.org/packages/f3/8e/c72d2c5186f762f13d3d8cf63aedeb973b95d45d62b59a63006060073e3a/senticnet-1.6-py3-none-any.whl (51.9MB)\n",
            "\u001b[K     |████████████████████████████████| 51.9MB 142kB/s \n",
            "\u001b[?25hInstalling collected packages: senticnet\n",
            "Successfully installed senticnet-1.6\n"
          ],
          "name": "stdout"
        }
      ]
    },
    {
      "cell_type": "code",
      "metadata": {
        "id": "dEDhpg2u-pgg"
      },
      "source": [
        "from senticnet.senticnet import SenticNet\n",
        "\n",
        "sn = SenticNet()\n",
        "concept_info = sn.concept('love')\n",
        "polarity_label = sn.polarity_label('love')\n",
        "polarity_value = sn.polarity_value('love')\n",
        "moodtags = sn.moodtags('love')\n",
        "semantics = sn.semantics('love')\n",
        "sentics = sn.sentics('love')"
      ],
      "execution_count": null,
      "outputs": []
    },
    {
      "cell_type": "code",
      "metadata": {
        "colab": {
          "base_uri": "https://localhost:8080/"
        },
        "id": "4WXn3hOu-xAJ",
        "outputId": "5b17fd15-bd41-4208-b977-b5bfe1173f97"
      },
      "source": [
        "print(concept_info)\n",
        "print(polarity_label)\n",
        "print(polarity_value)\n",
        "print(moodtags)\n",
        "print(semantics)\n",
        "print(sentics)"
      ],
      "execution_count": null,
      "outputs": [
        {
          "output_type": "stream",
          "text": [
            "{'polarity_label': 'positive', 'polarity_value': '0.83', 'sentics': {'introspection': '0.897', 'temper': '0', 'attitude': '0', 'sensitivity': '0.762'}, 'moodtags': ['#joy', '#eagerness'], 'semantics': ['desire_succeed', 'excitement', 'lust', 'passion', 'sexuality']}\n",
            "positive\n",
            "0.83\n",
            "['#joy', '#eagerness']\n",
            "['desire_succeed', 'excitement', 'lust', 'passion', 'sexuality']\n",
            "{'introspection': '0.897', 'temper': '0', 'attitude': '0', 'sensitivity': '0.762'}\n"
          ],
          "name": "stdout"
        }
      ]
    },
    {
      "cell_type": "markdown",
      "metadata": {
        "id": "hUsV_XPhNout"
      },
      "source": [
        "## ConceptNet"
      ]
    },
    {
      "cell_type": "code",
      "metadata": {
        "colab": {
          "base_uri": "https://localhost:8080/"
        },
        "id": "T4RdYiWYNrfN",
        "outputId": "1aff3f9d-911f-4a77-bc00-b1d7442a3f17"
      },
      "source": [
        "pip install conceptnet-lite"
      ],
      "execution_count": null,
      "outputs": [
        {
          "output_type": "stream",
          "text": [
            "Collecting conceptnet-lite\n",
            "\u001b[?25l  Downloading https://files.pythonhosted.org/packages/ee/08/e0c6ff37ae43c8e74e997fa53a2f9ce2950928c6c4f837b0d2781ef91715/conceptnet_lite-0.1.27-py3-none-any.whl (42kB)\n",
            "\u001b[K     |████████████████████████████████| 51kB 2.9MB/s \n",
            "\u001b[?25hCollecting pysmartdl<2.0,>=1.3\n",
            "  Downloading https://files.pythonhosted.org/packages/ac/6a/582286ea74c54363cba30413214767904f0a239e12253c3817feaf78453f/pySmartDL-1.3.4-py3-none-any.whl\n",
            "Collecting peewee<4.0,>=3.10\n",
            "\u001b[?25l  Downloading https://files.pythonhosted.org/packages/c9/51/3b2ded25a1cd51d1096bda8e0d1474712fe71efd374ae39b86c73a83d648/peewee-3.14.4.tar.gz (2.3MB)\n",
            "\u001b[K     |████████████████████████████████| 2.3MB 6.2MB/s \n",
            "\u001b[?25hCollecting lmdb<0.98.0,>=0.97.0\n",
            "\u001b[?25l  Downloading https://files.pythonhosted.org/packages/9f/8f/37cc080deb867305bf2d3ec4639e33b981d0def8d78949454a4654ca16bf/lmdb-0.97.tar.gz (869kB)\n",
            "\u001b[K     |████████████████████████████████| 870kB 12.2MB/s \n",
            "\u001b[?25hRequirement already satisfied: tqdm<5.0,>=4.35 in /usr/local/lib/python3.7/dist-packages (from conceptnet-lite) (4.41.1)\n",
            "Building wheels for collected packages: peewee, lmdb\n",
            "  Building wheel for peewee (setup.py) ... \u001b[?25l\u001b[?25hdone\n",
            "  Created wheel for peewee: filename=peewee-3.14.4-cp37-cp37m-linux_x86_64.whl size=592992 sha256=8cd8bf9ec663042c9460c97d740cc036a591f3a5f76022641ec733d49abe6218\n",
            "  Stored in directory: /root/.cache/pip/wheels/a0/ce/ff/732bd2a2729233b3a55bb5d8557d500f7be41bd21df3f01048\n",
            "  Building wheel for lmdb (setup.py) ... \u001b[?25l\u001b[?25hdone\n",
            "  Created wheel for lmdb: filename=lmdb-0.97-cp37-cp37m-linux_x86_64.whl size=219767 sha256=2f858ce7912fbc450bcd41a6f0157509aae35fb3247beb7f2376d650440052c6\n",
            "  Stored in directory: /root/.cache/pip/wheels/7f/4d/44/b299a9b22d8eaaaa455304687fb6d4c02d9178c1530850e12a\n",
            "Successfully built peewee lmdb\n",
            "Installing collected packages: pysmartdl, peewee, lmdb, conceptnet-lite\n",
            "  Found existing installation: lmdb 0.99\n",
            "    Uninstalling lmdb-0.99:\n",
            "      Successfully uninstalled lmdb-0.99\n",
            "Successfully installed conceptnet-lite-0.1.27 lmdb-0.97 peewee-3.14.4 pysmartdl-1.3.4\n"
          ],
          "name": "stdout"
        }
      ]
    },
    {
      "cell_type": "code",
      "metadata": {
        "colab": {
          "base_uri": "https://localhost:8080/"
        },
        "id": "JOLEeBM0Nztz",
        "outputId": "b9e23a80-5408-4ed5-b64a-80cafe2a4f6d"
      },
      "source": [
        "import conceptnet_lite\n",
        "\n",
        "conceptnet_lite.connect(\"/path/to/conceptnet.db\")"
      ],
      "execution_count": null,
      "outputs": [
        {
          "output_type": "stream",
          "text": [
            "File not found: /path/to/conceptnet.db\n",
            "Download compressed database\n"
          ],
          "name": "stdout"
        },
        {
          "output_type": "stream",
          "text": [
            "/usr/local/lib/python3.7/dist-packages/psycopg2/__init__.py:144: UserWarning: The psycopg2 wheel package will be renamed from release 2.8; in order to keep installing from binary please use \"pip install psycopg2-binary\" instead. For details see: <http://initd.org/psycopg/docs/install.html#binary-install-from-pypi>.\n",
            "  \"\"\")\n"
          ],
          "name": "stderr"
        },
        {
          "output_type": "stream",
          "text": [
            "[*] 0 bytes / 1.85 GB @ 0 bytes/s [------------------] [0.0%, 0s left]   \b\b\b\b\b\b\b\b\b\b\b\b\b\b\b\b\b\b\b\b\b\b\b\b\b\b\b\b\b\b\b\b\b\b\b\b\b\b\b\b\b\b\b\b\b\b\b\b\b\b\b\b\b\b\b\b\b\b\b\b\b\b\b\b\b\b\b\b\b\b\b\b\b\b [*] 2.5 MB / 1.85 GB @ 12.6 MB/s [------------------] [0.1%, 0s left]   \b\b\b\b\b\b\b\b\b\b\b\b\b\b\b\b\b\b\b\b\b\b\b\b\b\b\b\b\b\b\b\b\b\b\b\b\b\b\b\b\b\b\b\b\b\b\b\b\b\b\b\b\b\b\b\b\b\b\b\b\b\b\b\b\b\b\b\b\b\b\b\b\b [*] 20.4 MB / 1.85 GB @ 67.8 MB/s [------------------] [1.1%, 0s left]   \b\b\b\b\b\b\b\b\b\b\b\b\b\b\b\b\b\b\b\b\b\b\b\b\b\b\b\b\b\b\b\b\b\b\b\b\b\b\b\b\b\b\b\b\b\b\b\b\b\b\b\b\b\b\b\b\b\b\b\b\b\b\b\b\b\b\b\b\b\b\b\b\b\b [*] 37.8 MB / 1.85 GB @ 94.4 MB/s [------------------] [2.0%, 0s left]   \b\b\b\b\b\b\b\b\b\b\b\b\b\b\b\b\b\b\b\b\b\b\b\b\b\b\b\b\b\b\b\b\b\b\b\b\b\b\b\b\b\b\b\b\b\b\b\b\b\b\b\b\b\b\b\b\b\b\b\b\b\b\b\b\b\b\b\b\b\b\b\b\b\b [*] 55.5 MB / 1.85 GB @ 111.0 MB/s [------------------] [2.9%, 0s left]   \b\b\b\b\b\b\b\b\b\b\b\b\b\b\b\b\b\b\b\b\b\b\b\b\b\b\b\b\b\b\b\b\b\b\b\b\b\b\b\b\b\b\b\b\b\b\b\b\b\b\b\b\b\b\b\b\b\b\b\b\b\b\b\b\b\b\b\b\b\b\b\b\b\b\b [*] 73.3 MB / 1.85 GB @ 122.2 MB/s [------------------] [3.9%, 0s left]   \b\b\b\b\b\b\b\b\b\b\b\b\b\b\b\b\b\b\b\b\b\b\b\b\b\b\b\b\b\b\b\b\b\b\b\b\b\b\b\b\b\b\b\b\b\b\b\b\b\b\b\b\b\b\b\b\b\b\b\b\b\b\b\b\b\b\b\b\b\b\b\b\b\b\b [*] 91.2 MB / 1.85 GB @ 130.2 MB/s [------------------] [4.8%, 0s left]   \b\b\b\b\b\b\b\b\b\b\b\b\b\b\b\b\b\b\b\b\b\b\b\b\b\b\b\b\b\b\b\b\b\b\b\b\b\b\b\b\b\b\b\b\b\b\b\b\b\b\b\b\b\b\b\b\b\b\b\b\b\b\b\b\b\b\b\b\b\b\b\b\b\b\b [*] 109.3 MB / 1.85 GB @ 136.6 MB/s [#-----------------] [5.8%, 0s left]   \b\b\b\b\b\b\b\b\b\b\b\b\b\b\b\b\b\b\b\b\b\b\b\b\b\b\b\b\b\b\b\b\b\b\b\b\b\b\b\b\b\b\b\b\b\b\b\b\b\b\b\b\b\b\b\b\b\b\b\b\b\b\b\b\b\b\b\b\b\b\b\b\b\b\b\b [*] 130.8 MB / 1.85 GB @ 145.3 MB/s [#-----------------] [6.9%, 0s left]   \b\b\b\b\b\b\b\b\b\b\b\b\b\b\b\b\b\b\b\b\b\b\b\b\b\b\b\b\b\b\b\b\b\b\b\b\b\b\b\b\b\b\b\b\b\b\b\b\b\b\b\b\b\b\b\b\b\b\b\b\b\b\b\b\b\b\b\b\b\b\b\b\b\b\b\b [*] 149.7 MB / 1.85 GB @ 149.7 MB/s [#-----------------] [7.9%, 0s left]   \b\b\b\b\b\b\b\b\b\b\b\b\b\b\b\b\b\b\b\b\b\b\b\b\b\b\b\b\b\b\b\b\b\b\b\b\b\b\b\b\b\b\b\b\b\b\b\b\b\b\b\b\b\b\b\b\b\b\b\b\b\b\b\b\b\b\b\b\b\b\b\b\b\b\b\b [*] 165.2 MB / 1.85 GB @ 150.1 MB/s [#-----------------] [8.7%, 0s left]   \b\b\b\b\b\b\b\b\b\b\b\b\b\b\b\b\b\b\b\b\b\b\b\b\b\b\b\b\b\b\b\b\b\b\b\b\b\b\b\b\b\b\b\b\b\b\b\b\b\b\b\b\b\b\b\b\b\b\b\b\b\b\b\b\b\b\b\b\b\b\b\b\b\b\b\b [*] 182.5 MB / 1.85 GB @ 152.1 MB/s [#-----------------] [9.6%, 0s left]   \b\b\b\b\b\b\b\b\b\b\b\b\b\b\b\b\b\b\b\b\b\b\b\b\b\b\b\b\b\b\b\b\b\b\b\b\b\b\b\b\b\b\b\b\b\b\b\b\b\b\b\b\b\b\b\b\b\b\b\b\b\b\b\b\b\b\b\b\b\b\b\b\b\b\b\b [*] 198.1 MB / 1.85 GB @ 152.4 MB/s [#-----------------] [10.5%, 0s left]   \b\b\b\b\b\b\b\b\b\b\b\b\b\b\b\b\b\b\b\b\b\b\b\b\b\b\b\b\b\b\b\b\b\b\b\b\b\b\b\b\b\b\b\b\b\b\b\b\b\b\b\b\b\b\b\b\b\b\b\b\b\b\b\b\b\b\b\b\b\b\b\b\b\b\b\b\b [*] 213.7 MB / 1.85 GB @ 152.6 MB/s [##----------------] [11.3%, 0s left]   \b\b\b\b\b\b\b\b\b\b\b\b\b\b\b\b\b\b\b\b\b\b\b\b\b\b\b\b\b\b\b\b\b\b\b\b\b\b\b\b\b\b\b\b\b\b\b\b\b\b\b\b\b\b\b\b\b\b\b\b\b\b\b\b\b\b\b\b\b\b\b\b\b\b\b\b\b [*] 228.5 MB / 1.85 GB @ 152.3 MB/s [##----------------] [12.1%, 0s left]   \b\b\b\b\b\b\b\b\b\b\b\b\b\b\b\b\b\b\b\b\b\b\b\b\b\b\b\b\b\b\b\b\b\b\b\b\b\b\b\b\b\b\b\b\b\b\b\b\b\b\b\b\b\b\b\b\b\b\b\b\b\b\b\b\b\b\b\b\b\b\b\b\b\b\b\b\b [*] 245.0 MB / 1.85 GB @ 153.1 MB/s [##----------------] [12.9%, 0s left]   \b\b\b\b\b\b\b\b\b\b\b\b\b\b\b\b\b\b\b\b\b\b\b\b\b\b\b\b\b\b\b\b\b\b\b\b\b\b\b\b\b\b\b\b\b\b\b\b\b\b\b\b\b\b\b\b\b\b\b\b\b\b\b\b\b\b\b\b\b\b\b\b\b\b\b\b\b [*] 261.4 MB / 1.85 GB @ 153.8 MB/s [##----------------] [13.8%, 0s left]   \b\b\b\b\b\b\b\b\b\b\b\b\b\b\b\b\b\b\b\b\b\b\b\b\b\b\b\b\b\b\b\b\b\b\b\b\b\b\b\b\b\b\b\b\b\b\b\b\b\b\b\b\b\b\b\b\b\b\b\b\b\b\b\b\b\b\b\b\b\b\b\b\b\b\b\b\b [*] 278.8 MB / 1.85 GB @ 154.9 MB/s [##----------------] [14.7%, 0s left]   \b\b\b\b\b\b\b\b\b\b\b\b\b\b\b\b\b\b\b\b\b\b\b\b\b\b\b\b\b\b\b\b\b\b\b\b\b\b\b\b\b\b\b\b\b\b\b\b\b\b\b\b\b\b\b\b\b\b\b\b\b\b\b\b\b\b\b\b\b\b\b\b\b\b\b\b\b [*] 295.9 MB / 1.85 GB @ 155.7 MB/s [##----------------] [15.6%, 0s left]   \b\b\b\b\b\b\b\b\b\b\b\b\b\b\b\b\b\b\b\b\b\b\b\b\b\b\b\b\b\b\b\b\b\b\b\b\b\b\b\b\b\b\b\b\b\b\b\b\b\b\b\b\b\b\b\b\b\b\b\b\b\b\b\b\b\b\b\b\b\b\b\b\b\b\b\b\b [*] 305.0 MB / 1.85 GB @ 152.5 MB/s [##----------------] [16.1%, 0s left]   \b\b\b\b\b\b\b\b\b\b\b\b\b\b\b\b\b\b\b\b\b\b\b\b\b\b\b\b\b\b\b\b\b\b\b\b\b\b\b\b\b\b\b\b\b\b\b\b\b\b\b\b\b\b\b\b\b\b\b\b\b\b\b\b\b\b\b\b\b\b\b\b\b\b\b\b\b [*] 323.6 MB / 1.85 GB @ 154.1 MB/s [###---------------] [17.1%, 0s left]   \b\b\b\b\b\b\b\b\b\b\b\b\b\b\b\b\b\b\b\b\b\b\b\b\b\b\b\b\b\b\b\b\b\b\b\b\b\b\b\b\b\b\b\b\b\b\b\b\b\b\b\b\b\b\b\b\b\b\b\b\b\b\b\b\b\b\b\b\b\b\b\b\b\b\b\b\b [*] 341.5 MB / 1.85 GB @ 155.2 MB/s [###---------------] [18.0%, 0s left]   \b\b\b\b\b\b\b\b\b\b\b\b\b\b\b\b\b\b\b\b\b\b\b\b\b\b\b\b\b\b\b\b\b\b\b\b\b\b\b\b\b\b\b\b\b\b\b\b\b\b\b\b\b\b\b\b\b\b\b\b\b\b\b\b\b\b\b\b\b\b\b\b\b\b\b\b\b [*] 356.4 MB / 1.85 GB @ 155.0 MB/s [###---------------] [18.8%, 0s left]   \b\b\b\b\b\b\b\b\b\b\b\b\b\b\b\b\b\b\b\b\b\b\b\b\b\b\b\b\b\b\b\b\b\b\b\b\b\b\b\b\b\b\b\b\b\b\b\b\b\b\b\b\b\b\b\b\b\b\b\b\b\b\b\b\b\b\b\b\b\b\b\b\b\b\b\b\b [*] 373.2 MB / 1.85 GB @ 155.5 MB/s [###---------------] [19.7%, 0s left]   \b\b\b\b\b\b\b\b\b\b\b\b\b\b\b\b\b\b\b\b\b\b\b\b\b\b\b\b\b\b\b\b\b\b\b\b\b\b\b\b\b\b\b\b\b\b\b\b\b\b\b\b\b\b\b\b\b\b\b\b\b\b\b\b\b\b\b\b\b\b\b\b\b\b\b\b\b [*] 390.4 MB / 1.85 GB @ 156.2 MB/s [###---------------] [20.6%, 0s left]   \b\b\b\b\b\b\b\b\b\b\b\b\b\b\b\b\b\b\b\b\b\b\b\b\b\b\b\b\b\b\b\b\b\b\b\b\b\b\b\b\b\b\b\b\b\b\b\b\b\b\b\b\b\b\b\b\b\b\b\b\b\b\b\b\b\b\b\b\b\b\b\b\b\b\b\b\b [*] 408.4 MB / 1.85 GB @ 157.1 MB/s [###---------------] [21.6%, 0s left]   \b\b\b\b\b\b\b\b\b\b\b\b\b\b\b\b\b\b\b\b\b\b\b\b\b\b\b\b\b\b\b\b\b\b\b\b\b\b\b\b\b\b\b\b\b\b\b\b\b\b\b\b\b\b\b\b\b\b\b\b\b\b\b\b\b\b\b\b\b\b\b\b\b\b\b\b\b [*] 426.3 MB / 1.85 GB @ 157.9 MB/s [####--------------] [22.5%, 0s left]   \b\b\b\b\b\b\b\b\b\b\b\b\b\b\b\b\b\b\b\b\b\b\b\b\b\b\b\b\b\b\b\b\b\b\b\b\b\b\b\b\b\b\b\b\b\b\b\b\b\b\b\b\b\b\b\b\b\b\b\b\b\b\b\b\b\b\b\b\b\b\b\b\b\b\b\b\b [*] 444.8 MB / 1.85 GB @ 158.9 MB/s [####--------------] [23.5%, 0s left]   \b\b\b\b\b\b\b\b\b\b\b\b\b\b\b\b\b\b\b\b\b\b\b\b\b\b\b\b\b\b\b\b\b\b\b\b\b\b\b\b\b\b\b\b\b\b\b\b\b\b\b\b\b\b\b\b\b\b\b\b\b\b\b\b\b\b\b\b\b\b\b\b\b\b\b\b\b [*] 461.1 MB / 1.85 GB @ 159.0 MB/s [####--------------] [24.4%, 0s left]   \b\b\b\b\b\b\b\b\b\b\b\b\b\b\b\b\b\b\b\b\b\b\b\b\b\b\b\b\b\b\b\b\b\b\b\b\b\b\b\b\b\b\b\b\b\b\b\b\b\b\b\b\b\b\b\b\b\b\b\b\b\b\b\b\b\b\b\b\b\b\b\b\b\b\b\b\b [*] 475.3 MB / 1.85 GB @ 158.4 MB/s [####--------------] [25.1%, 0s left]   \b\b\b\b\b\b\b\b\b\b\b\b\b\b\b\b\b\b\b\b\b\b\b\b\b\b\b\b\b\b\b\b\b\b\b\b\b\b\b\b\b\b\b\b\b\b\b\b\b\b\b\b\b\b\b\b\b\b\b\b\b\b\b\b\b\b\b\b\b\b\b\b\b\b\b\b\b [*] 492.9 MB / 1.85 GB @ 164.3 MB/s [####--------------] [26.0%, 0s left]   \b\b\b\b\b\b\b\b\b\b\b\b\b\b\b\b\b\b\b\b\b\b\b\b\b\b\b\b\b\b\b\b\b\b\b\b\b\b\b\b\b\b\b\b\b\b\b\b\b\b\b\b\b\b\b\b\b\b\b\b\b\b\b\b\b\b\b\b\b\b\b\b\b\b\b\b\b [*] 508.4 MB / 1.85 GB @ 168.6 MB/s [####--------------] [26.9%, 0s left]   \b\b\b\b\b\b\b\b\b\b\b\b\b\b\b\b\b\b\b\b\b\b\b\b\b\b\b\b\b\b\b\b\b\b\b\b\b\b\b\b\b\b\b\b\b\b\b\b\b\b\b\b\b\b\b\b\b\b\b\b\b\b\b\b\b\b\b\b\b\b\b\b\b\b\b\b\b [*] 525.5 MB / 1.85 GB @ 168.4 MB/s [####--------------] [27.8%, 0s left]   \b\b\b\b\b\b\b\b\b\b\b\b\b\b\b\b\b\b\b\b\b\b\b\b\b\b\b\b\b\b\b\b\b\b\b\b\b\b\b\b\b\b\b\b\b\b\b\b\b\b\b\b\b\b\b\b\b\b\b\b\b\b\b\b\b\b\b\b\b\b\b\b\b\b\b\b\b [*] 542.6 MB / 1.85 GB @ 168.3 MB/s [#####-------------] [28.7%, 0s left]   \b\b\b\b\b\b\b\b\b\b\b\b\b\b\b\b\b\b\b\b\b\b\b\b\b\b\b\b\b\b\b\b\b\b\b\b\b\b\b\b\b\b\b\b\b\b\b\b\b\b\b\b\b\b\b\b\b\b\b\b\b\b\b\b\b\b\b\b\b\b\b\b\b\b\b\b\b [*] 560.2 MB / 1.85 GB @ 168.2 MB/s [#####-------------] [29.6%, 0s left]   \b\b\b\b\b\b\b\b\b\b\b\b\b\b\b\b\b\b\b\b\b\b\b\b\b\b\b\b\b\b\b\b\b\b\b\b\b\b\b\b\b\b\b\b\b\b\b\b\b\b\b\b\b\b\b\b\b\b\b\b\b\b\b\b\b\b\b\b\b\b\b\b\b\b\b\b\b [*] 576.8 MB / 1.85 GB @ 167.8 MB/s [#####-------------] [30.5%, 0s left]   \b\b\b\b\b\b\b\b\b\b\b\b\b\b\b\b\b\b\b\b\b\b\b\b\b\b\b\b\b\b\b\b\b\b\b\b\b\b\b\b\b\b\b\b\b\b\b\b\b\b\b\b\b\b\b\b\b\b\b\b\b\b\b\b\b\b\b\b\b\b\b\b\b\b\b\b\b [*] 604.2 MB / 1.85 GB @ 171.0 MB/s [#####-------------] [31.9%, 0s left]   \b\b\b\b\b\b\b\b\b\b\b\b\b\b\b\b\b\b\b\b\b\b\b\b\b\b\b\b\b\b\b\b\b\b\b\b\b\b\b\b\b\b\b\b\b\b\b\b\b\b\b\b\b\b\b\b\b\b\b\b\b\b\b\b\b\b\b\b\b\b\b\b\b\b\b\b\b [*] 620.5 MB / 1.85 GB @ 170.4 MB/s [#####-------------] [32.8%, 0s left]   \b\b\b\b\b\b\b\b\b\b\b\b\b\b\b\b\b\b\b\b\b\b\b\b\b\b\b\b\b\b\b\b\b\b\b\b\b\b\b\b\b\b\b\b\b\b\b\b\b\b\b\b\b\b\b\b\b\b\b\b\b\b\b\b\b\b\b\b\b\b\b\b\b\b\b\b\b [*] 637.4 MB / 1.85 GB @ 168.9 MB/s [######------------] [33.7%, 0s left]   \b\b\b\b\b\b\b\b\b\b\b\b\b\b\b\b\b\b\b\b\b\b\b\b\b\b\b\b\b\b\b\b\b\b\b\b\b\b\b\b\b\b\b\b\b\b\b\b\b\b\b\b\b\b\b\b\b\b\b\b\b\b\b\b\b\b\b\b\b\b\b\b\b\b\b\b\b [*] 653.5 MB / 1.85 GB @ 167.9 MB/s [######------------] [34.5%, 0s left]   \b\b\b\b\b\b\b\b\b\b\b\b\b\b\b\b\b\b\b\b\b\b\b\b\b\b\b\b\b\b\b\b\b\b\b\b\b\b\b\b\b\b\b\b\b\b\b\b\b\b\b\b\b\b\b\b\b\b\b\b\b\b\b\b\b\b\b\b\b\b\b\b\b\b\b\b\b [*] 670.9 MB / 1.85 GB @ 168.6 MB/s [######------------] [35.5%, 0s left]   \b\b\b\b\b\b\b\b\b\b\b\b\b\b\b\b\b\b\b\b\b\b\b\b\b\b\b\b\b\b\b\b\b\b\b\b\b\b\b\b\b\b\b\b\b\b\b\b\b\b\b\b\b\b\b\b\b\b\b\b\b\b\b\b\b\b\b\b\b\b\b\b\b\b\b\b\b [*] 686.7 MB / 1.85 GB @ 168.1 MB/s [######------------] [36.3%, 0s left]   \b\b\b\b\b\b\b\b\b\b\b\b\b\b\b\b\b\b\b\b\b\b\b\b\b\b\b\b\b\b\b\b\b\b\b\b\b\b\b\b\b\b\b\b\b\b\b\b\b\b\b\b\b\b\b\b\b\b\b\b\b\b\b\b\b\b\b\b\b\b\b\b\b\b\b\b\b [*] 703.4 MB / 1.85 GB @ 168.4 MB/s [######------------] [37.2%, 0s left]   \b\b\b\b\b\b\b\b\b\b\b\b\b\b\b\b\b\b\b\b\b\b\b\b\b\b\b\b\b\b\b\b\b\b\b\b\b\b\b\b\b\b\b\b\b\b\b\b\b\b\b\b\b\b\b\b\b\b\b\b\b\b\b\b\b\b\b\b\b\b\b\b\b\b\b\b\b [*] 721.4 MB / 1.85 GB @ 169.2 MB/s [######------------] [38.1%, 0s left]   \b\b\b\b\b\b\b\b\b\b\b\b\b\b\b\b\b\b\b\b\b\b\b\b\b\b\b\b\b\b\b\b\b\b\b\b\b\b\b\b\b\b\b\b\b\b\b\b\b\b\b\b\b\b\b\b\b\b\b\b\b\b\b\b\b\b\b\b\b\b\b\b\b\b\b\b\b [*] 741.7 MB / 1.85 GB @ 171.1 MB/s [#######-----------] [39.2%, 0s left]   \b\b\b\b\b\b\b\b\b\b\b\b\b\b\b\b\b\b\b\b\b\b\b\b\b\b\b\b\b\b\b\b\b\b\b\b\b\b\b\b\b\b\b\b\b\b\b\b\b\b\b\b\b\b\b\b\b\b\b\b\b\b\b\b\b\b\b\b\b\b\b\b\b\b\b\b\b [*] 756.3 MB / 1.85 GB @ 170.4 MB/s [#######-----------] [40.0%, 0s left]   \b\b\b\b\b\b\b\b\b\b\b\b\b\b\b\b\b\b\b\b\b\b\b\b\b\b\b\b\b\b\b\b\b\b\b\b\b\b\b\b\b\b\b\b\b\b\b\b\b\b\b\b\b\b\b\b\b\b\b\b\b\b\b\b\b\b\b\b\b\b\b\b\b\b\b\b\b [*] 773.3 MB / 1.85 GB @ 170.6 MB/s [#######-----------] [40.9%, 0s left]   \b\b\b\b\b\b\b\b\b\b\b\b\b\b\b\b\b\b\b\b\b\b\b\b\b\b\b\b\b\b\b\b\b\b\b\b\b\b\b\b\b\b\b\b\b\b\b\b\b\b\b\b\b\b\b\b\b\b\b\b\b\b\b\b\b\b\b\b\b\b\b\b\b\b\b\b\b [*] 788.2 MB / 1.85 GB @ 169.8 MB/s [#######-----------] [41.7%, 0s left]   \b\b\b\b\b\b\b\b\b\b\b\b\b\b\b\b\b\b\b\b\b\b\b\b\b\b\b\b\b\b\b\b\b\b\b\b\b\b\b\b\b\b\b\b\b\b\b\b\b\b\b\b\b\b\b\b\b\b\b\b\b\b\b\b\b\b\b\b\b\b\b\b\b\b\b\b\b [*] 804.3 MB / 1.85 GB @ 169.5 MB/s [#######-----------] [42.5%, 0s left]   \b\b\b\b\b\b\b\b\b\b\b\b\b\b\b\b\b\b\b\b\b\b\b\b\b\b\b\b\b\b\b\b\b\b\b\b\b\b\b\b\b\b\b\b\b\b\b\b\b\b\b\b\b\b\b\b\b\b\b\b\b\b\b\b\b\b\b\b\b\b\b\b\b\b\b\b\b [*] 820.3 MB / 1.85 GB @ 171.8 MB/s [#######-----------] [43.4%, 0s left]   \b\b\b\b\b\b\b\b\b\b\b\b\b\b\b\b\b\b\b\b\b\b\b\b\b\b\b\b\b\b\b\b\b\b\b\b\b\b\b\b\b\b\b\b\b\b\b\b\b\b\b\b\b\b\b\b\b\b\b\b\b\b\b\b\b\b\b\b\b\b\b\b\b\b\b\b\b [*] 837.2 MB / 1.85 GB @ 171.2 MB/s [#######-----------] [44.3%, 7s left]   \b\b\b\b\b\b\b\b\b\b\b\b\b\b\b\b\b\b\b\b\b\b\b\b\b\b\b\b\b\b\b\b\b\b\b\b\b\b\b\b\b\b\b\b\b\b\b\b\b\b\b\b\b\b\b\b\b\b\b\b\b\b\b\b\b\b\b\b\b\b\b\b\b\b\b\b\b [*] 855.1 MB / 1.85 GB @ 171.2 MB/s [########----------] [45.2%, 7s left]   \b\b\b\b\b\b\b\b\b\b\b\b\b\b\b\b\b\b\b\b\b\b\b\b\b\b\b\b\b\b\b\b\b\b\b\b\b\b\b\b\b\b\b\b\b\b\b\b\b\b\b\b\b\b\b\b\b\b\b\b\b\b\b\b\b\b\b\b\b\b\b\b\b\b\b\b\b [*] 868.0 MB / 1.85 GB @ 170.5 MB/s [########----------] [45.9%, 7s left]   \b\b\b\b\b\b\b\b\b\b\b\b\b\b\b\b\b\b\b\b\b\b\b\b\b\b\b\b\b\b\b\b\b\b\b\b\b\b\b\b\b\b\b\b\b\b\b\b\b\b\b\b\b\b\b\b\b\b\b\b\b\b\b\b\b\b\b\b\b\b\b\b\b\b\b\b\b [*] 883.5 MB / 1.85 GB @ 170.1 MB/s [########----------] [46.7%, 7s left]   \b\b\b\b\b\b\b\b\b\b\b\b\b\b\b\b\b\b\b\b\b\b\b\b\b\b\b\b\b\b\b\b\b\b\b\b\b\b\b\b\b\b\b\b\b\b\b\b\b\b\b\b\b\b\b\b\b\b\b\b\b\b\b\b\b\b\b\b\b\b\b\b\b\b\b\b\b [*] 898.9 MB / 1.85 GB @ 169.5 MB/s [########----------] [47.5%, 7s left]   \b\b\b\b\b\b\b\b\b\b\b\b\b\b\b\b\b\b\b\b\b\b\b\b\b\b\b\b\b\b\b\b\b\b\b\b\b\b\b\b\b\b\b\b\b\b\b\b\b\b\b\b\b\b\b\b\b\b\b\b\b\b\b\b\b\b\b\b\b\b\b\b\b\b\b\b\b [*] 914.9 MB / 1.85 GB @ 168.8 MB/s [########----------] [48.4%, 7s left]   \b\b\b\b\b\b\b\b\b\b\b\b\b\b\b\b\b\b\b\b\b\b\b\b\b\b\b\b\b\b\b\b\b\b\b\b\b\b\b\b\b\b\b\b\b\b\b\b\b\b\b\b\b\b\b\b\b\b\b\b\b\b\b\b\b\b\b\b\b\b\b\b\b\b\b\b\b [*] 929.2 MB / 1.85 GB @ 167.7 MB/s [########----------] [49.1%, 7s left]   \b\b\b\b\b\b\b\b\b\b\b\b\b\b\b\b\b\b\b\b\b\b\b\b\b\b\b\b\b\b\b\b\b\b\b\b\b\b\b\b\b\b\b\b\b\b\b\b\b\b\b\b\b\b\b\b\b\b\b\b\b\b\b\b\b\b\b\b\b\b\b\b\b\b\b\b\b [*] 947.5 MB / 1.85 GB @ 167.5 MB/s [#########---------] [50.1%, 7s left]   \b\b\b\b\b\b\b\b\b\b\b\b\b\b\b\b\b\b\b\b\b\b\b\b\b\b\b\b\b\b\b\b\b\b\b\b\b\b\b\b\b\b\b\b\b\b\b\b\b\b\b\b\b\b\b\b\b\b\b\b\b\b\b\b\b\b\b\b\b\b\b\b\b\b\b\b\b [*] 964.9 MB / 1.85 GB @ 167.9 MB/s [#########---------] [51.0%, 7s left]   \b\b\b\b\b\b\b\b\b\b\b\b\b\b\b\b\b\b\b\b\b\b\b\b\b\b\b\b\b\b\b\b\b\b\b\b\b\b\b\b\b\b\b\b\b\b\b\b\b\b\b\b\b\b\b\b\b\b\b\b\b\b\b\b\b\b\b\b\b\b\b\b\b\b\b\b\b [*] 984.2 MB / 1.85 GB @ 169.6 MB/s [#########---------] [52.0%, 7s left]   \b\b\b\b\b\b\b\b\b\b\b\b\b\b\b\b\b\b\b\b\b\b\b\b\b\b\b\b\b\b\b\b\b\b\b\b\b\b\b\b\b\b\b\b\b\b\b\b\b\b\b\b\b\b\b\b\b\b\b\b\b\b\b\b\b\b\b\b\b\b\b\b\b\b\b\b\b [*] 1,001.1 MB / 1.85 GB @ 169.4 MB/s [#########---------] [52.9%, 6s left]   \b\b\b\b\b\b\b\b\b\b\b\b\b\b\b\b\b\b\b\b\b\b\b\b\b\b\b\b\b\b\b\b\b\b\b\b\b\b\b\b\b\b\b\b\b\b\b\b\b\b\b\b\b\b\b\b\b\b\b\b\b\b\b\b\b\b\b\b\b\b\b\b\b\b\b\b\b\b\b [*] 1,017.7 MB / 1.85 GB @ 169.8 MB/s [#########---------] [53.8%, 6s left]   \b\b\b\b\b\b\b\b\b\b\b\b\b\b\b\b\b\b\b\b\b\b\b\b\b\b\b\b\b\b\b\b\b\b\b\b\b\b\b\b\b\b\b\b\b\b\b\b\b\b\b\b\b\b\b\b\b\b\b\b\b\b\b\b\b\b\b\b\b\b\b\b\b\b\b\b\b\b\b [*] 1.01 GB / 1.85 GB @ 169.2 MB/s [#########---------] [54.6%, 6s left]   \b\b\b\b\b\b\b\b\b\b\b\b\b\b\b\b\b\b\b\b\b\b\b\b\b\b\b\b\b\b\b\b\b\b\b\b\b\b\b\b\b\b\b\b\b\b\b\b\b\b\b\b\b\b\b\b\b\b\b\b\b\b\b\b\b\b\b\b\b\b\b\b\b\b\b\b [*] 1.02 GB / 1.85 GB @ 169.0 MB/s [#########---------] [55.5%, 6s left]   \b\b\b\b\b\b\b\b\b\b\b\b\b\b\b\b\b\b\b\b\b\b\b\b\b\b\b\b\b\b\b\b\b\b\b\b\b\b\b\b\b\b\b\b\b\b\b\b\b\b\b\b\b\b\b\b\b\b\b\b\b\b\b\b\b\b\b\b\b\b\b\b\b\b\b\b [*] 1.04 GB / 1.85 GB @ 168.1 MB/s [##########--------] [56.3%, 6s left]   \b\b\b\b\b\b\b\b\b\b\b\b\b\b\b\b\b\b\b\b\b\b\b\b\b\b\b\b\b\b\b\b\b\b\b\b\b\b\b\b\b\b\b\b\b\b\b\b\b\b\b\b\b\b\b\b\b\b\b\b\b\b\b\b\b\b\b\b\b\b\b\b\b\b\b\b [*] 1.06 GB / 1.85 GB @ 168.0 MB/s [##########--------] [57.1%, 6s left]   \b\b\b\b\b\b\b\b\b\b\b\b\b\b\b\b\b\b\b\b\b\b\b\b\b\b\b\b\b\b\b\b\b\b\b\b\b\b\b\b\b\b\b\b\b\b\b\b\b\b\b\b\b\b\b\b\b\b\b\b\b\b\b\b\b\b\b\b\b\b\b\b\b\b\b\b [*] 1.07 GB / 1.85 GB @ 164.2 MB/s [##########--------] [58.0%, 6s left]   \b\b\b\b\b\b\b\b\b\b\b\b\b\b\b\b\b\b\b\b\b\b\b\b\b\b\b\b\b\b\b\b\b\b\b\b\b\b\b\b\b\b\b\b\b\b\b\b\b\b\b\b\b\b\b\b\b\b\b\b\b\b\b\b\b\b\b\b\b\b\b\b\b\b\b\b [*] 1.09 GB / 1.85 GB @ 164.3 MB/s [##########--------] [58.8%, 6s left]   \b\b\b\b\b\b\b\b\b\b\b\b\b\b\b\b\b\b\b\b\b\b\b\b\b\b\b\b\b\b\b\b\b\b\b\b\b\b\b\b\b\b\b\b\b\b\b\b\b\b\b\b\b\b\b\b\b\b\b\b\b\b\b\b\b\b\b\b\b\b\b\b\b\b\b\b [*] 1.10 GB / 1.85 GB @ 163.7 MB/s [##########--------] [59.6%, 6s left]   \b\b\b\b\b\b\b\b\b\b\b\b\b\b\b\b\b\b\b\b\b\b\b\b\b\b\b\b\b\b\b\b\b\b\b\b\b\b\b\b\b\b\b\b\b\b\b\b\b\b\b\b\b\b\b\b\b\b\b\b\b\b\b\b\b\b\b\b\b\b\b\b\b\b\b\b [*] 1.12 GB / 1.85 GB @ 163.0 MB/s [##########--------] [60.4%, 6s left]   \b\b\b\b\b\b\b\b\b\b\b\b\b\b\b\b\b\b\b\b\b\b\b\b\b\b\b\b\b\b\b\b\b\b\b\b\b\b\b\b\b\b\b\b\b\b\b\b\b\b\b\b\b\b\b\b\b\b\b\b\b\b\b\b\b\b\b\b\b\b\b\b\b\b\b\b [*] 1.13 GB / 1.85 GB @ 163.1 MB/s [###########-------] [61.3%, 5s left]   \b\b\b\b\b\b\b\b\b\b\b\b\b\b\b\b\b\b\b\b\b\b\b\b\b\b\b\b\b\b\b\b\b\b\b\b\b\b\b\b\b\b\b\b\b\b\b\b\b\b\b\b\b\b\b\b\b\b\b\b\b\b\b\b\b\b\b\b\b\b\b\b\b\b\b\b [*] 1.15 GB / 1.85 GB @ 163.8 MB/s [###########-------] [62.3%, 5s left]   \b\b\b\b\b\b\b\b\b\b\b\b\b\b\b\b\b\b\b\b\b\b\b\b\b\b\b\b\b\b\b\b\b\b\b\b\b\b\b\b\b\b\b\b\b\b\b\b\b\b\b\b\b\b\b\b\b\b\b\b\b\b\b\b\b\b\b\b\b\b\b\b\b\b\b\b [*] 1.17 GB / 1.85 GB @ 163.5 MB/s [###########-------] [63.1%, 5s left]   \b\b\b\b\b\b\b\b\b\b\b\b\b\b\b\b\b\b\b\b\b\b\b\b\b\b\b\b\b\b\b\b\b\b\b\b\b\b\b\b\b\b\b\b\b\b\b\b\b\b\b\b\b\b\b\b\b\b\b\b\b\b\b\b\b\b\b\b\b\b\b\b\b\b\b\b [*] 1.18 GB / 1.85 GB @ 162.6 MB/s [###########-------] [63.9%, 5s left]   \b\b\b\b\b\b\b\b\b\b\b\b\b\b\b\b\b\b\b\b\b\b\b\b\b\b\b\b\b\b\b\b\b\b\b\b\b\b\b\b\b\b\b\b\b\b\b\b\b\b\b\b\b\b\b\b\b\b\b\b\b\b\b\b\b\b\b\b\b\b\b\b\b\b\b\b [*] 1.20 GB / 1.85 GB @ 161.1 MB/s [###########-------] [64.7%, 5s left]   \b\b\b\b\b\b\b\b\b\b\b\b\b\b\b\b\b\b\b\b\b\b\b\b\b\b\b\b\b\b\b\b\b\b\b\b\b\b\b\b\b\b\b\b\b\b\b\b\b\b\b\b\b\b\b\b\b\b\b\b\b\b\b\b\b\b\b\b\b\b\b\b\b\b\b\b [*] 1.21 GB / 1.85 GB @ 161.8 MB/s [###########-------] [65.6%, 5s left]   \b\b\b\b\b\b\b\b\b\b\b\b\b\b\b\b\b\b\b\b\b\b\b\b\b\b\b\b\b\b\b\b\b\b\b\b\b\b\b\b\b\b\b\b\b\b\b\b\b\b\b\b\b\b\b\b\b\b\b\b\b\b\b\b\b\b\b\b\b\b\b\b\b\b\b\b [*] 1.23 GB / 1.85 GB @ 161.8 MB/s [###########-------] [66.5%, 5s left]   \b\b\b\b\b\b\b\b\b\b\b\b\b\b\b\b\b\b\b\b\b\b\b\b\b\b\b\b\b\b\b\b\b\b\b\b\b\b\b\b\b\b\b\b\b\b\b\b\b\b\b\b\b\b\b\b\b\b\b\b\b\b\b\b\b\b\b\b\b\b\b\b\b\b\b\b [*] 1.25 GB / 1.85 GB @ 163.4 MB/s [############------] [67.6%, 5s left]   \b\b\b\b\b\b\b\b\b\b\b\b\b\b\b\b\b\b\b\b\b\b\b\b\b\b\b\b\b\b\b\b\b\b\b\b\b\b\b\b\b\b\b\b\b\b\b\b\b\b\b\b\b\b\b\b\b\b\b\b\b\b\b\b\b\b\b\b\b\b\b\b\b\b\b\b [*] 1.26 GB / 1.85 GB @ 163.4 MB/s [############------] [68.4%, 5s left]   \b\b\b\b\b\b\b\b\b\b\b\b\b\b\b\b\b\b\b\b\b\b\b\b\b\b\b\b\b\b\b\b\b\b\b\b\b\b\b\b\b\b\b\b\b\b\b\b\b\b\b\b\b\b\b\b\b\b\b\b\b\b\b\b\b\b\b\b\b\b\b\b\b\b\b\b [*] 1.28 GB / 1.85 GB @ 163.9 MB/s [############------] [69.3%, 5s left]   \b\b\b\b\b\b\b\b\b\b\b\b\b\b\b\b\b\b\b\b\b\b\b\b\b\b\b\b\b\b\b\b\b\b\b\b\b\b\b\b\b\b\b\b\b\b\b\b\b\b\b\b\b\b\b\b\b\b\b\b\b\b\b\b\b\b\b\b\b\b\b\b\b\b\b\b [*] 1.30 GB / 1.85 GB @ 163.5 MB/s [############------] [70.2%, 4s left]   \b\b\b\b\b\b\b\b\b\b\b\b\b\b\b\b\b\b\b\b\b\b\b\b\b\b\b\b\b\b\b\b\b\b\b\b\b\b\b\b\b\b\b\b\b\b\b\b\b\b\b\b\b\b\b\b\b\b\b\b\b\b\b\b\b\b\b\b\b\b\b\b\b\b\b\b [*] 1.31 GB / 1.85 GB @ 162.9 MB/s [############------] [71.0%, 4s left]   \b\b\b\b\b\b\b\b\b\b\b\b\b\b\b\b\b\b\b\b\b\b\b\b\b\b\b\b\b\b\b\b\b\b\b\b\b\b\b\b\b\b\b\b\b\b\b\b\b\b\b\b\b\b\b\b\b\b\b\b\b\b\b\b\b\b\b\b\b\b\b\b\b\b\b\b [*] 1.33 GB / 1.85 GB @ 164.1 MB/s [############------] [71.9%, 4s left]   \b\b\b\b\b\b\b\b\b\b\b\b\b\b\b\b\b\b\b\b\b\b\b\b\b\b\b\b\b\b\b\b\b\b\b\b\b\b\b\b\b\b\b\b\b\b\b\b\b\b\b\b\b\b\b\b\b\b\b\b\b\b\b\b\b\b\b\b\b\b\b\b\b\b\b\b [*] 1.34 GB / 1.85 GB @ 164.0 MB/s [#############-----] [72.7%, 4s left]   \b\b\b\b\b\b\b\b\b\b\b\b\b\b\b\b\b\b\b\b\b\b\b\b\b\b\b\b\b\b\b\b\b\b\b\b\b\b\b\b\b\b\b\b\b\b\b\b\b\b\b\b\b\b\b\b\b\b\b\b\b\b\b\b\b\b\b\b\b\b\b\b\b\b\b\b [*] 1.36 GB / 1.85 GB @ 164.3 MB/s [#############-----] [73.6%, 4s left]   \b\b\b\b\b\b\b\b\b\b\b\b\b\b\b\b\b\b\b\b\b\b\b\b\b\b\b\b\b\b\b\b\b\b\b\b\b\b\b\b\b\b\b\b\b\b\b\b\b\b\b\b\b\b\b\b\b\b\b\b\b\b\b\b\b\b\b\b\b\b\b\b\b\b\b\b [*] 1.38 GB / 1.85 GB @ 164.8 MB/s [#############-----] [74.5%, 4s left]   \b\b\b\b\b\b\b\b\b\b\b\b\b\b\b\b\b\b\b\b\b\b\b\b\b\b\b\b\b\b\b\b\b\b\b\b\b\b\b\b\b\b\b\b\b\b\b\b\b\b\b\b\b\b\b\b\b\b\b\b\b\b\b\b\b\b\b\b\b\b\b\b\b\b\b\b [*] 1.39 GB / 1.85 GB @ 164.4 MB/s [#############-----] [75.2%, 4s left]   \b\b\b\b\b\b\b\b\b\b\b\b\b\b\b\b\b\b\b\b\b\b\b\b\b\b\b\b\b\b\b\b\b\b\b\b\b\b\b\b\b\b\b\b\b\b\b\b\b\b\b\b\b\b\b\b\b\b\b\b\b\b\b\b\b\b\b\b\b\b\b\b\b\b\b\b [*] 1.41 GB / 1.85 GB @ 166.1 MB/s [#############-----] [76.4%, 4s left]   \b\b\b\b\b\b\b\b\b\b\b\b\b\b\b\b\b\b\b\b\b\b\b\b\b\b\b\b\b\b\b\b\b\b\b\b\b\b\b\b\b\b\b\b\b\b\b\b\b\b\b\b\b\b\b\b\b\b\b\b\b\b\b\b\b\b\b\b\b\b\b\b\b\b\b\b [*] 1.43 GB / 1.85 GB @ 165.6 MB/s [#############-----] [77.3%, 4s left]   \b\b\b\b\b\b\b\b\b\b\b\b\b\b\b\b\b\b\b\b\b\b\b\b\b\b\b\b\b\b\b\b\b\b\b\b\b\b\b\b\b\b\b\b\b\b\b\b\b\b\b\b\b\b\b\b\b\b\b\b\b\b\b\b\b\b\b\b\b\b\b\b\b\b\b\b [*] 1.44 GB / 1.85 GB @ 164.6 MB/s [##############----] [78.1%, 4s left]   \b\b\b\b\b\b\b\b\b\b\b\b\b\b\b\b\b\b\b\b\b\b\b\b\b\b\b\b\b\b\b\b\b\b\b\b\b\b\b\b\b\b\b\b\b\b\b\b\b\b\b\b\b\b\b\b\b\b\b\b\b\b\b\b\b\b\b\b\b\b\b\b\b\b\b\b [*] 1.46 GB / 1.85 GB @ 164.1 MB/s [##############----] [78.9%, 3s left]   \b\b\b\b\b\b\b\b\b\b\b\b\b\b\b\b\b\b\b\b\b\b\b\b\b\b\b\b\b\b\b\b\b\b\b\b\b\b\b\b\b\b\b\b\b\b\b\b\b\b\b\b\b\b\b\b\b\b\b\b\b\b\b\b\b\b\b\b\b\b\b\b\b\b\b\b [*] 1.48 GB / 1.85 GB @ 164.6 MB/s [##############----] [79.9%, 3s left]   \b\b\b\b\b\b\b\b\b\b\b\b\b\b\b\b\b\b\b\b\b\b\b\b\b\b\b\b\b\b\b\b\b\b\b\b\b\b\b\b\b\b\b\b\b\b\b\b\b\b\b\b\b\b\b\b\b\b\b\b\b\b\b\b\b\b\b\b\b\b\b\b\b\b\b\b [*] 1.49 GB / 1.85 GB @ 164.7 MB/s [##############----] [80.7%, 3s left]   \b\b\b\b\b\b\b\b\b\b\b\b\b\b\b\b\b\b\b\b\b\b\b\b\b\b\b\b\b\b\b\b\b\b\b\b\b\b\b\b\b\b\b\b\b\b\b\b\b\b\b\b\b\b\b\b\b\b\b\b\b\b\b\b\b\b\b\b\b\b\b\b\b\b\b\b [*] 1.51 GB / 1.85 GB @ 164.2 MB/s [##############----] [81.5%, 3s left]   \b\b\b\b\b\b\b\b\b\b\b\b\b\b\b\b\b\b\b\b\b\b\b\b\b\b\b\b\b\b\b\b\b\b\b\b\b\b\b\b\b\b\b\b\b\b\b\b\b\b\b\b\b\b\b\b\b\b\b\b\b\b\b\b\b\b\b\b\b\b\b\b\b\b\b\b [*] 1.52 GB / 1.85 GB @ 165.3 MB/s [##############----] [82.5%, 3s left]   \b\b\b\b\b\b\b\b\b\b\b\b\b\b\b\b\b\b\b\b\b\b\b\b\b\b\b\b\b\b\b\b\b\b\b\b\b\b\b\b\b\b\b\b\b\b\b\b\b\b\b\b\b\b\b\b\b\b\b\b\b\b\b\b\b\b\b\b\b\b\b\b\b\b\b\b [*] 1.55 GB / 1.85 GB @ 167.7 MB/s [###############---] [83.7%, 3s left]   \b\b\b\b\b\b\b\b\b\b\b\b\b\b\b\b\b\b\b\b\b\b\b\b\b\b\b\b\b\b\b\b\b\b\b\b\b\b\b\b\b\b\b\b\b\b\b\b\b\b\b\b\b\b\b\b\b\b\b\b\b\b\b\b\b\b\b\b\b\b\b\b\b\b\b\b [*] 1.57 GB / 1.85 GB @ 169.6 MB/s [###############---] [84.9%, 3s left]   \b\b\b\b\b\b\b\b\b\b\b\b\b\b\b\b\b\b\b\b\b\b\b\b\b\b\b\b\b\b\b\b\b\b\b\b\b\b\b\b\b\b\b\b\b\b\b\b\b\b\b\b\b\b\b\b\b\b\b\b\b\b\b\b\b\b\b\b\b\b\b\b\b\b\b\b [*] 1.59 GB / 1.85 GB @ 170.1 MB/s [###############---] [85.8%, 3s left]   \b\b\b\b\b\b\b\b\b\b\b\b\b\b\b\b\b\b\b\b\b\b\b\b\b\b\b\b\b\b\b\b\b\b\b\b\b\b\b\b\b\b\b\b\b\b\b\b\b\b\b\b\b\b\b\b\b\b\b\b\b\b\b\b\b\b\b\b\b\b\b\b\b\b\b\b [*] 1.60 GB / 1.85 GB @ 170.5 MB/s [###############---] [86.7%, 3s left]   \b\b\b\b\b\b\b\b\b\b\b\b\b\b\b\b\b\b\b\b\b\b\b\b\b\b\b\b\b\b\b\b\b\b\b\b\b\b\b\b\b\b\b\b\b\b\b\b\b\b\b\b\b\b\b\b\b\b\b\b\b\b\b\b\b\b\b\b\b\b\b\b\b\b\b\b [*] 1.62 GB / 1.85 GB @ 171.2 MB/s [###############---] [87.5%, 3s left]   \b\b\b\b\b\b\b\b\b\b\b\b\b\b\b\b\b\b\b\b\b\b\b\b\b\b\b\b\b\b\b\b\b\b\b\b\b\b\b\b\b\b\b\b\b\b\b\b\b\b\b\b\b\b\b\b\b\b\b\b\b\b\b\b\b\b\b\b\b\b\b\b\b\b\b\b [*] 1.63 GB / 1.85 GB @ 170.5 MB/s [###############---] [88.4%, 2s left]   \b\b\b\b\b\b\b\b\b\b\b\b\b\b\b\b\b\b\b\b\b\b\b\b\b\b\b\b\b\b\b\b\b\b\b\b\b\b\b\b\b\b\b\b\b\b\b\b\b\b\b\b\b\b\b\b\b\b\b\b\b\b\b\b\b\b\b\b\b\b\b\b\b\b\b\b [*] 1.65 GB / 1.85 GB @ 169.7 MB/s [################--] [89.2%, 2s left]   \b\b\b\b\b\b\b\b\b\b\b\b\b\b\b\b\b\b\b\b\b\b\b\b\b\b\b\b\b\b\b\b\b\b\b\b\b\b\b\b\b\b\b\b\b\b\b\b\b\b\b\b\b\b\b\b\b\b\b\b\b\b\b\b\b\b\b\b\b\b\b\b\b\b\b\b [*] 1.66 GB / 1.85 GB @ 169.5 MB/s [################--] [90.0%, 2s left]   \b\b\b\b\b\b\b\b\b\b\b\b\b\b\b\b\b\b\b\b\b\b\b\b\b\b\b\b\b\b\b\b\b\b\b\b\b\b\b\b\b\b\b\b\b\b\b\b\b\b\b\b\b\b\b\b\b\b\b\b\b\b\b\b\b\b\b\b\b\b\b\b\b\b\b\b [*] 1.68 GB / 1.85 GB @ 171.4 MB/s [################--] [91.1%, 2s left]   \b\b\b\b\b\b\b\b\b\b\b\b\b\b\b\b\b\b\b\b\b\b\b\b\b\b\b\b\b\b\b\b\b\b\b\b\b\b\b\b\b\b\b\b\b\b\b\b\b\b\b\b\b\b\b\b\b\b\b\b\b\b\b\b\b\b\b\b\b\b\b\b\b\b\b\b [*] 1.70 GB / 1.85 GB @ 171.8 MB/s [################--] [92.0%, 2s left]   \b\b\b\b\b\b\b\b\b\b\b\b\b\b\b\b\b\b\b\b\b\b\b\b\b\b\b\b\b\b\b\b\b\b\b\b\b\b\b\b\b\b\b\b\b\b\b\b\b\b\b\b\b\b\b\b\b\b\b\b\b\b\b\b\b\b\b\b\b\b\b\b\b\b\b\b [*] 1.71 GB / 1.85 GB @ 171.5 MB/s [################--] [92.8%, 2s left]   \b\b\b\b\b\b\b\b\b\b\b\b\b\b\b\b\b\b\b\b\b\b\b\b\b\b\b\b\b\b\b\b\b\b\b\b\b\b\b\b\b\b\b\b\b\b\b\b\b\b\b\b\b\b\b\b\b\b\b\b\b\b\b\b\b\b\b\b\b\b\b\b\b\b\b\b [*] 1.73 GB / 1.85 GB @ 171.0 MB/s [################--] [93.6%, 2s left]   \b\b\b\b\b\b\b\b\b\b\b\b\b\b\b\b\b\b\b\b\b\b\b\b\b\b\b\b\b\b\b\b\b\b\b\b\b\b\b\b\b\b\b\b\b\b\b\b\b\b\b\b\b\b\b\b\b\b\b\b\b\b\b\b\b\b\b\b\b\b\b\b\b\b\b\b [*] 1.75 GB / 1.85 GB @ 169.6 MB/s [#################-] [94.5%, 2s left]   \b\b\b\b\b\b\b\b\b\b\b\b\b\b\b\b\b\b\b\b\b\b\b\b\b\b\b\b\b\b\b\b\b\b\b\b\b\b\b\b\b\b\b\b\b\b\b\b\b\b\b\b\b\b\b\b\b\b\b\b\b\b\b\b\b\b\b\b\b\b\b\b\b\b\b\b [*] 1.76 GB / 1.85 GB @ 170.1 MB/s [#################-] [95.4%, 2s left]   \b\b\b\b\b\b\b\b\b\b\b\b\b\b\b\b\b\b\b\b\b\b\b\b\b\b\b\b\b\b\b\b\b\b\b\b\b\b\b\b\b\b\b\b\b\b\b\b\b\b\b\b\b\b\b\b\b\b\b\b\b\b\b\b\b\b\b\b\b\b\b\b\b\b\b\b [*] 1.78 GB / 1.85 GB @ 169.7 MB/s [#################-] [96.3%, 2s left]   \b\b\b\b\b\b\b\b\b\b\b\b\b\b\b\b\b\b\b\b\b\b\b\b\b\b\b\b\b\b\b\b\b\b\b\b\b\b\b\b\b\b\b\b\b\b\b\b\b\b\b\b\b\b\b\b\b\b\b\b\b\b\b\b\b\b\b\b\b\b\b\b\b\b\b\b [*] 1.79 GB / 1.85 GB @ 170.1 MB/s [#################-] [97.1%, 1s left]   \b\b\b\b\b\b\b\b\b\b\b\b\b\b\b\b\b\b\b\b\b\b\b\b\b\b\b\b\b\b\b\b\b\b\b\b\b\b\b\b\b\b\b\b\b\b\b\b\b\b\b\b\b\b\b\b\b\b\b\b\b\b\b\b\b\b\b\b\b\b\b\b\b\b\b\b [*] 1.81 GB / 1.85 GB @ 170.5 MB/s [#################-] [98.1%, 1s left]   \b\b\b\b\b\b\b\b\b\b\b\b\b\b\b\b\b\b\b\b\b\b\b\b\b\b\b\b\b\b\b\b\b\b\b\b\b\b\b\b\b\b\b\b\b\b\b\b\b\b\b\b\b\b\b\b\b\b\b\b\b\b\b\b\b\b\b\b\b\b\b\b\b\b\b\b [*] 1.83 GB / 1.85 GB @ 169.6 MB/s [#################-] [98.8%, 1s left]   \b\b\b\b\b\b\b\b\b\b\b\b\b\b\b\b\b\b\b\b\b\b\b\b\b\b\b\b\b\b\b\b\b\b\b\b\b\b\b\b\b\b\b\b\b\b\b\b\b\b\b\b\b\b\b\b\b\b\b\b\b\b\b\b\b\b\b\b\b\b\b\b\b\b\b\b [*] 1.84 GB / 1.85 GB @ 170.3 MB/s [#################-] [99.7%, 1s left]   \b\b\b\b\b\b\b\b\b\b\b\b\b\b\b\b\b\b\b\b\b\b\b\b\b\b\b\b\b\b\b\b\b\b\b\b\b\b\b\b\b\b\b\b\b\b\b\b\b\b\b\b\b\b\b\b\b\b\b\b\b\b\b\b\b\b\b\b\b\b\b\b\b\b\b\b [*] 1.85 GB / 1.85 GB @ 170.3 MB/s [##################] [100%, 0s left]    \n",
            "Extract compressed database (this can take a few minutes)\n"
          ],
          "name": "stdout"
        }
      ]
    },
    {
      "cell_type": "code",
      "metadata": {
        "id": "ki2i8UlUOqNz"
      },
      "source": [
        "from conceptnet_lite import Label, edges_for\n",
        "\n",
        "def query_knowledge(q):\n",
        "  try:\n",
        "    d = {}\n",
        "    for e in edges_for(Label.get(text=q, language='en').concepts, same_language=True):\n",
        "      # print(e.start.text, \"::\", e.end.text, \"|\", e.relation.name, \"|\", e.etc['weight'])\n",
        "      d[(e.start.text,e.relation.name,e.end.text)] = e.etc['weight']\n",
        "      # print(e.etc['weight'])\n",
        "    kn = []\n",
        "    for i,f in enumerate(sorted(d.items(), key=lambda item: item[1], reverse=True)):\n",
        "      # if i == 5:\n",
        "      #   break\n",
        "      k = ' '.join(f[0])\n",
        "      k = k.replace('_', ' ')\n",
        "      kn.append(k)\n",
        "      # only one knowledge\n",
        "      break\n",
        "    return kn\n",
        "  except:\n",
        "    return []\n"
      ],
      "execution_count": null,
      "outputs": []
    },
    {
      "cell_type": "code",
      "metadata": {
        "colab": {
          "base_uri": "https://localhost:8080/"
        },
        "id": "uTL3L_U9m-Tb",
        "outputId": "7b625d77-56dd-40fb-f2f5-73c4cef86337"
      },
      "source": [
        "print(query_knowledge('edematous'))"
      ],
      "execution_count": null,
      "outputs": [
        {
          "output_type": "stream",
          "text": [
            "['edematous synonym dropsical', 'antiedematous derived from edematous', 'edematously derived from edematous', 'nonedematous derived from edematous', 'edemateous form of edematous']\n",
            "[]\n",
            "[]\n"
          ],
          "name": "stdout"
        }
      ]
    },
    {
      "cell_type": "code",
      "metadata": {
        "id": "n4WU6-SCOXvt"
      },
      "source": [
        "from conceptnet_lite import Label\n",
        "\n",
        "cat_concepts = Label.get(text='charge', language='en').concepts  \n",
        "for c in cat_concepts:\n",
        "    print(\"    Concept URI:\", c.uri)\n",
        "    print(\"    Concept text:\", c.text)\n",
        "    print(\"    Concept language:\", c.language.name)"
      ],
      "execution_count": null,
      "outputs": []
    }
  ]
}